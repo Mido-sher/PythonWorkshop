{
 "cells": [
  {
   "cell_type": "markdown",
   "metadata": {
    "slideshow": {
     "slide_type": "-"
    }
   },
   "source": [
    "## Population Genetics in *an* RNA World\n",
    "\n",
    "In order to study population genetics, we first need a model of a population. And even before that, we need to define what we mean by *population*. Populations can be defined on many levels and with many diffferent criteria. For our purposes, we will simply say that a population is a set of individuals sharing a common environment. And because this is population *genetics* we can think of individuals as entities comprising of specific genes or chromosomes. \n",
    "\n",
    "So where do we get a population from? As you may have discussed in previous workshops, there are very large datasets containing sequencing information from different populations. So we could download one of these datasets and perform some analysis on it. But I find this can be dry and tedious. Why download data when we can simply create our own?\n",
    "\n",
    "In this workshop we're going to be creating and studying our own \"artificial\" populations to illustrate some important population genetics concepts and methodologies. Not only will this help you learn population genetics, but you will get a lot more programming practice than if we were to simply parse data files and go from there. \n",
    "\n",
    "More specifically, we're going to build our own RNA world.\n",
    "\n",
    "As you may know, RNA is widely thought to be the first self replicating life-form to arise billions of years ago. One of the strongest arguments for this theory is that RNA is able to carry information in its nucleotides like DNA, and like protein, it is able to adopt higher order structures to catalyze reactions, such as self replication. So it is likely, and there is growing evidence that this is the case, that the first form of replicating life was RNA. Because of this dual property of RNA as an information vessel as well as a structural/functional element we can use RNA molecules to build very nice population models. \n",
    "\n",
    "So in this notebook, I'll be walking you through building genetic populations, simulating their evolution, and using statistics and other mathematical tools for understanding key properties of populations.\n",
    "\n",
    "### Building an RNA population\n",
    "\n",
    "As we saw earlier, RNA has the nice property of posessing a strong mapping between information carrying (sequence) and function (structure). This is analogous to what is known in evolutionary terms as a genotype and a phenotype. With these properties, we have everything we need to model a population, and simulate its evolution.\n",
    "\n",
    "#### RNA sequence-structure\n",
    "\n",
    "We can think of the genotype as a sequence $s$ consisting of letters/nucleotides from the alphabet $\\{U,A,C,G\\}$. The corresponding phenotype $\\omega$ is the secondary structure of $s$ which can be thought of as a pairing between nucleotides in the primary sequence that give rise to a 2D architecture. Because it has been shown that the function of many biomolecules, including RNA, is driven by structure this gives us a good proxy for phenotype. \n",
    "\n",
    "Below is an example of what an RNA secondary structure, or pairing, looks like."
   ]
  },
  {
   "cell_type": "code",
   "execution_count": null,
   "metadata": {
    "collapsed": false,
    "slideshow": {
     "slide_type": "-"
    }
   },
   "outputs": [],
   "source": [
    "### 1\n",
    "\n",
    "from IPython.display import Image\n",
    "#This will load an image of an RNA secondary structure\n",
    "Image(url='http://www.tbi.univie.ac.at/~pkerp/forgi/_images/1y26_ss.png')"
   ]
  },
  {
   "cell_type": "markdown",
   "metadata": {},
   "source": [
    "As you can see, unparied positions are forming loop-like structures, and paired positions are forming stem-like structures. It is this spatial arrangement of nucleotides that drives RNA's function. Therefore, another sequence that adopts a similar shape, is likely to behave in a similar manner. Another thing to notice is that, although in reality this is often not the case, in general we only allow pairs between $\\{C,G\\}$ and $\\{A, U\\}$ nucleotides, most modern approaches allow for non-canonical pairings and you will find some examples of this in the above structure.\n",
    "\n",
    "*How do we go from a sequence to a structure?*\n",
    "\n",
    "So a secondary structure is just a list of pairings between positions. How do we get the optimal pairing?\n",
    "\n",
    "The algorithm we're going to be using in our simulations is known as the Nussinov Algorithm. The Nussinov algorithm is one of the first and simplest attempts at predicting RNA structure. Because bonds tend to stabilize RNA, the algorithm tries to maximize the number of pairs in the structure and return that as its solution. Current approaches achieve more accurate solutions by using energy models based one experimental values to then obtain a structure that minimizes free energy. But since we're not really concerned with the accuracy of our predictions, Nussinov is a good entry point. Furthermore, the main algorithmic concepts are the same between Nussinov and state of the art RNA structure prediction algorithms. I implemented the algorithm in a separate file called `fold.py` that we can import and use its functions. I'm not going to go into detail here on how the algorithm works because it is beyond the scope of this workshop but there is a bonus exercise at the end if you're curious.\n",
    "\n",
    "You can predict a secondary structure by calling `nussinov()` with a sequence string and it will return a tuple in the form `(structure, pairs)`."
   ]
  },
  {
   "cell_type": "code",
   "execution_count": null,
   "metadata": {
    "collapsed": false,
    "slideshow": {
     "slide_type": "-"
    }
   },
   "outputs": [],
   "source": [
    "import numpy as np\n",
    "from fold import nussinov\n",
    "\n",
    "sequence_to_fold = \"ACCCGAUGUUAUAUAUACCU\"\n",
    "struc = nussinov(...)\n",
    "print(sequence_to_fold)\n",
    "print(struc)"
   ]
  },
  {
   "cell_type": "markdown",
   "metadata": {
    "collapsed": true,
    "slideshow": {
     "slide_type": "-"
    }
   },
   "source": [
    "You will see a funny dot-bracket string in the output. This is a representation of the structure of an RNA. Quite simply, a matching parir of parentheses (open and close) correspond to the nucleotides at those positions being paried. Whereas, a dot means that that position is unpaired in the structure. Feel free to play around with the input sequence to get a better understanding of the notation.\n",
    "\n",
    "So that's enough about RNA structure prediction. Let's move on to building our populations.\n",
    "\n",
    "### Fitness of a sequence: Target Structure\n",
    "\n",
    "Now that we have a good way of getting a phenotype (secondary structure), we need a way to evaluate the fitness of that phenotype. If we think in real life terms, fitness is the ability of a genotype to replicate into the next generation. If you have a gene carrying a mutation that causes some kind of disease, your fitness is decreased and you have a lower chance of contributing offspring to the next generation. On a molecular level the same concept applies. A molecule needs to accomplish a certain function, i.e. bind to some other molecule or send some kind of signal. And as we've seen before, the most important factor that determines how well it can carry out this function is its structure. So we can imagine that a certain structure, we can call this a 'target' structure, is required in order to accomplish a certain function. So a sequence that folds correctly to a target structure is seen as having a greater fitness than one that does not. Since we've encoded structures as simple dot-bracket strings, we can easily compare structures and thus evaluate the fitness between a given structure and the target, or 'correct' structure. \n",
    "\n",
    "There are many ways to compare structures $w_{1}$ and $w_{2}$, but we're going to use one of the simplest ways, which is base-pair distance. This is just the number of pairs in $w_{1}$ that are not in $w_{2}$. Again, this is beyond the scope of this workshop so I'll just give you the code for it and if you would like to know more you can ask me."
   ]
  },
  {
   "cell_type": "code",
   "execution_count": null,
   "metadata": {
    "collapsed": false
   },
   "outputs": [],
   "source": [
    "### 3\n",
    "\n",
    "#ss_to_bp() and bp_distance() by Vladimir Reinharz.\n",
    "def ss_to_bp(ss):\n",
    "    bps = set()\n",
    "    l = []\n",
    "    for i, x in enumerate(ss):\n",
    "            if x == '(':\n",
    "                    l.append(i)\n",
    "            elif x == ')':\n",
    "                    bps.add((l.pop(), i))\n",
    "    return bps\n",
    "\n",
    "def bp_distance(w1, w2):\n",
    "    \"\"\"\n",
    "    return base pair distance between structures w1 and w1. \n",
    "    w1 and w1 are lists of tuples representing pairing indices.\n",
    "    \"\"\"\n",
    "    return len(set(w1).symmetric_difference(set(w2)))\n",
    "\n",
    "#let's fold two sequences\n",
    "w1 = nussinov(\"CCAAAAGG\")\n",
    "w2 = nussinov(\"ACAAAAGA\")\n",
    "\n",
    "print(w1)\n",
    "print(w2)\n",
    "\n",
    "#give the list of pairs to bp_distance and see what the distance is.\n",
    "print(bp_distance(w1[-1], w2[-1]))"
   ]
  },
  {
   "cell_type": "markdown",
   "metadata": {},
   "source": [
    "## Defining a cell: a little bit of Object Oriented Programming (OOP)\n",
    "\n",
    "Since we're going to be playing aroudn with sequences and structures and fitness values a lot, it's best to package it all nicely into an object. As you'll have seen with Vlad, objects are just a nice way of grouping data into an easily accessible form. \n",
    "\n",
    "We're trying to simulate evolution on a very simple kind of organism, or cell. It contains two copies of a RNA gene, each with a corresponding structure. "
   ]
  },
  {
   "cell_type": "code",
   "execution_count": null,
   "metadata": {
    "collapsed": false
   },
   "outputs": [],
   "source": [
    "### 4\n",
    "class Cell:\n",
    "    def __init__(self, seq_1, struc_1, seq_2, struc_2):\n",
    "        self.sequence_1 = ...\n",
    "        self.sequence_2 = ...\n",
    "        self.structure_1 = ...\n",
    "        self.structure_2 = ...\n",
    "        \n",
    "#for now just try initializing a Cell with made up sequences and structures\n",
    "cell = Cell(\"AACCCCUU\", \"((.....))\", \"GGAAAACA\", \"(....).\")\n",
    "print(cell.sequence_1, cell.structure_2, cell.sequence_1, cell.structure_2)"
   ]
  },
  {
   "cell_type": "markdown",
   "metadata": {},
   "source": [
    "## Populations of Cells\n",
    "\n",
    "Now we've defined a 'Cell'. Since a population is a collection of individuals our populations will naturally consist of **lists** of 'Cell' objects, each with their own sequences. Here we initialize all the Cells with random sequences and add them to the 'population' list."
   ]
  },
  {
   "cell_type": "code",
   "execution_count": null,
   "metadata": {
    "collapsed": true
   },
   "outputs": [],
   "source": [
    "### 5\n",
    "import random\n",
    "\n",
    "def populate(target, pop_size=100):\n",
    "    \n",
    "    population = []\n",
    "\n",
    "    for i in range(...):\n",
    "        #get a random sequence to start with\n",
    "        sequence = \"\".join([random.choice(\"AUCG\") for _ in range(len(target))])\n",
    "        #use nussinov to get the secondary structure for the sequence\n",
    "        structure = nussinov(...)\n",
    "        #add a new Cell object to the population list\n",
    "        new_cell = Cell(sequence, structure, sequence, structure)\n",
    "        new_cell.id = i\n",
    "        new_cell.parent = i\n",
    "        population.append(new_cell)\n",
    "            \n",
    "    return population"
   ]
  },
  {
   "cell_type": "markdown",
   "metadata": {},
   "source": [
    "Try creating a new population and printing the first 10 sequences and structures (in dot-bracket) on the first chromosome!"
   ]
  },
  {
   "cell_type": "code",
   "execution_count": null,
   "metadata": {
    "collapsed": false
   },
   "outputs": [],
   "source": [
    "### 6\n",
    "target = \"(.(((....).).).)....\"\n",
    "pop = populate(target, pop_size=100)\n",
    "for p in pop[:10]:\n",
    "    print(p.id, p.sequence_1, p.structure_1[0], p.sequence_2, p.structure_2[0])"
   ]
  },
  {
   "cell_type": "markdown",
   "metadata": {},
   "source": [
    "## The Fitness of a Cell\n",
    "\n",
    "Now that we can store populatoins of cells, we need a way to evaluate the fitness of a given Cell. Recall that a Cell is simply an object that contains two RNA sequences (think of it as two copies of a gene on each chromosome). \n",
    "\n",
    "So we simply need to loop through each Cell in a population and compute base pair distance to the target structure. However, simply using base-pair distance is not a very good measure of fitness. There are two reasons for this: \n",
    "\n",
    "1. We want fitness to represent a *probability* that a cell will reproduce, and base pair distance is an integer.\n",
    "2. We want this probability to be a *relative* measure. That is, we want to be the fitness to be proportional to how good a cell is with respect to all others in the population. This touches on an important principle in evolution where we only need to be 'better' than the competition and not good in some absolute measure. For example, if you and I are being chased by a bear. In order to survive, I only need to be faster than you, and not necessarily some absolute level of fitness.\n",
    "\n",
    "In order to get a probability (number between 0 and 1) we use the following equation to define the fitness of a structure $\\omega$ on a target structure $T$:\n",
    "\n",
    "$$P(\\omega, T) = N^{-1} exp(\\frac{-\\beta \\texttt{dist}(\\omega, T)}{\\texttt{len}(\\omega)})$$\n",
    "\n",
    "$$N = \\sum_{i \\in Pop}{P(\\omega_i, T})$$\n",
    "\n",
    "Here, the $N$ is what gives us the 'relative' measure because we divide the fitness of the Cell by the sum of the fitness of every other Cell. \n",
    "\n",
    "Let's take a quick look at how this function behaves if we plot different base pair distance values.\n",
    "\n",
    "What is the effect of the parameter $\\beta$? Try plotting the same function but with different values of $\\beta$."
   ]
  },
  {
   "cell_type": "code",
   "execution_count": null,
   "metadata": {
    "collapsed": false
   },
   "outputs": [],
   "source": [
    "%matplotlib inline\n",
    "import matplotlib.pyplot as plt\n",
    "import math\n",
    "import seaborn as sns\n",
    "\n",
    "target_length = 50\n",
    "beta = -2\n",
    "\n",
    "plt.plot([... for bp_dist in range(target_length)])\n",
    "plt.xlabel(\"Base pair distance to target structure\")\n",
    "plt.ylabel(\"P(w, T)\")"
   ]
  },
  {
   "cell_type": "markdown",
   "metadata": {},
   "source": [
    "As you can see, it's a very simple function that evaluates to 1 (highest fitness) if the base pair distance is 0, and decreases as the structures get further and further away from the target. I didn't include the $N$ in the plotting as it will be a bit more annoying to compute, but it is simply a scaling factor so the shape and main idea won't be different.\n",
    "\n",
    "Now we can use this function to get a fitness value for each Cell in our population."
   ]
  },
  {
   "cell_type": "code",
   "execution_count": null,
   "metadata": {
    "collapsed": false
   },
   "outputs": [],
   "source": [
    "### 7\n",
    "\n",
    "def compute_fitness(population, target, beta=-2):\n",
    "    \"\"\"\n",
    "    Assigns a fitness and bp_distance value to each cell in the population.\n",
    "    \"\"\"\n",
    "    #store the fitness values of each cell\n",
    "    tot = []\n",
    "    #iterate through each cell\n",
    "    for cell in ...:\n",
    "        \n",
    "        #calculate the bp_distance of each chromosome using the cell's structure\n",
    "        bp_distance_1 = bp_distance(cell.structure_1[-1], ...)\n",
    "        bp_distance_2 = bp_distance(cell.structure_2[-1], ...)\n",
    "        \n",
    "        #use the bp_distances and the above fitness equation to calculate the fitness of each chromosome\n",
    "        fitness_1 = ...\n",
    "        fitness_2 = ...\n",
    "\n",
    "        #get the fitness of the whole cell by multiplying the fitnesses of each chromosome\n",
    "        cell.fitness = ...\n",
    "               \n",
    "        #store the bp_distance of each chromosome.\n",
    "        cell.bp_distance_1 = ...\n",
    "        cell.bp_distance_2 = ...\n",
    "    \n",
    "        \n",
    "        #add the cell's fitness value to the list of all fitness values (used for normalization later)\n",
    "        tot.append(cell.fitness)\n",
    "\n",
    "    #normalization factor is sum of all fitness values in population\n",
    "    norm = np.sum(tot)\n",
    "    #divide all fitness values by the normalization factor.\n",
    "    for cell in population:\n",
    "        cell.fitness = ...\n",
    "\n",
    "    return None\n",
    "\n",
    "compute_fitness(pop, target)\n",
    "for cell in pop[:10]:\n",
    "    print(cell.fitness, cell.bp_distance_1, cell.bp_distance_2)"
   ]
  },
  {
   "cell_type": "markdown",
   "metadata": {},
   "source": [
    "## Introducing diversity: Mutations\n",
    "\n",
    "Evolution would go nowhere without random mutations. While mutations are technically just random errors in the copying of genetic material, they are essential in the process of evolution. This is because they introduce novel diversity to populatons, which with a low frequency can be beneficial. And when a beneficial mutation arises (i.e. a mutation that increases fitness, or replication probability) it quickly takes over the population and the populatioin as a whole has a higher fitness.\n",
    "\n",
    "Implementing mutations in our model will be quite straightforward. Since mutations happen at the genotype/sequence level, we simply have to iterate through our strings of nucleotides (sequences) and randomly introduce changes."
   ]
  },
  {
   "cell_type": "code",
   "execution_count": null,
   "metadata": {
    "collapsed": false
   },
   "outputs": [],
   "source": [
    "def mutate(sequence, mutation_rate=0.001):\n",
    "    \"\"\"Takes a sequence and mutates bases with probability mutation_rate\"\"\"\n",
    "    \n",
    "    #start an empty string to store the mutated sequence\n",
    "    new_sequence = \"\"\n",
    "    #boolean storing whether or not the sequence got mutated\n",
    "    mutated = False\n",
    "    #go through every bp in the sequence\n",
    "    for bp in sequence:\n",
    "        #generate a random number between 0 and 1\n",
    "        r = random.random()\n",
    "        #if r is below mutation rate, introduce a mutation\n",
    "        if ...:\n",
    "            #add a randomly sampled nucleotide to the new sequence\n",
    "            new_sequence = new_sequence + ...\n",
    "            mutated = True\n",
    "        else:\n",
    "            #if the mutation condition did not get met, copy the current bp to the new sequence\n",
    "            new_sequence = new_sequence + ...\n",
    "            \n",
    "    return (new_sequence, mutated)\n",
    "\n",
    "sequence_to_mutate = 'AAAAGGAGUGUGUAUGU'\n",
    "print(sequence_to_mutate)\n",
    "print(mutate(sequence_to_mutate, mutation_rate=0.5))"
   ]
  },
  {
   "cell_type": "markdown",
   "metadata": {},
   "source": [
    "## Selection\n",
    "\n",
    "The final process in this evolution model is selection. Once you have populations with a diverse range of fitnesses, we need to select the fittest individuals and let them replicate and contribute offspring to the next generation. In real populations this is just the process of reproduction. If you're fit enough you will be likely to reproduce more than another individual who is not as well suited to the environment.\n",
    "\n",
    "In order to represent this process in our model, we will use the fitness values that we assigned to each Cell earlier and use that to select replicating Cells. This is equivalent to sampling from a population with the sampling being weighted by the fitness of each Cell. Thankfully, `numpy.random.choice` comes to the rescue here. Once we have sampled enough Cells to build our next generation, we introduce mutations and compute the fitness values of the new generation."
   ]
  },
  {
   "cell_type": "code",
   "execution_count": null,
   "metadata": {
    "collapsed": false
   },
   "outputs": [],
   "source": [
    "def selection(population, target, mutation_rate=0.001, beta=-2):\n",
    "    \"\"\"\n",
    "    Returns a new population with offspring of the input population\n",
    "    \"\"\"\n",
    "\n",
    "    #select the sequences that will be 'parents' and contribute to the next generation\n",
    "    #look at the documentation for np.random.choice and its optional argument p\n",
    "    parents = ...\n",
    "\n",
    "    #build the next generation using the parents list\n",
    "    next_generation = []    \n",
    "    for i, p in enumerate(parents):\n",
    "        new_cell = Cell(...)\n",
    "        new_cell.id = i\n",
    "        new_cell.parent = p.id\n",
    "        \n",
    "        next_generation.append(...)\n",
    "\n",
    "    #introduce mutations in next_generation sequeneces and re-fold when a mutation occurs\n",
    "    for rna in next_generation:      \n",
    "        mutated_sequence_1, mutated_1 = mutate(rna.sequence_1, mutation_rate=mutation_rate)\n",
    "        mutated_sequence_2, mutated_2 = mutate(rna.sequence_2, mutation_rate=mutation_rate)\n",
    "        \n",
    "        if mutated_1:\n",
    "            rna.sequence_1 = mutated_sequence_1\n",
    "            rna.structure_1 = nussinov(mutated_sequence_1)\n",
    "        if mutated_2:\n",
    "            rna.sequence_2 = mutated_sequence_2\n",
    "            rna.structure_2 = nussinov(mutated_sequence_2)\n",
    "        else:\n",
    "            continue\n",
    "\n",
    "    #update fitness values for the new generation\n",
    "    compute_fitness(next_generation, target, beta=beta)\n",
    "\n",
    "    return next_generation\n",
    "\n",
    "next_gen = selection(pop, target)\n",
    "for cell in next_gen[:10]:\n",
    "    print(cell.sequence_1)"
   ]
  },
  {
   "cell_type": "markdown",
   "metadata": {},
   "source": [
    "## Gathering information on our populations\n",
    "\n",
    "Here we simply store some statistics (in a dictionary) on the population at each generation such as the average base pair distance and the average fitness of the populations. No coding to do here, it's not a very interesting function but feel free to give it a look."
   ]
  },
  {
   "cell_type": "code",
   "execution_count": null,
   "metadata": {
    "collapsed": false
   },
   "outputs": [],
   "source": [
    "def record_stats(pop, population_stats):\n",
    "    \"\"\"\n",
    "    Takes a population list and a dictionary and updates it with stats on the population.\n",
    "    \"\"\"\n",
    "    generation_bp_distance_1 = [rna.bp_distance_1 for rna in pop]\n",
    "    generation_bp_distance_2 = [rna.bp_distance_2 for rna in pop]\n",
    "\n",
    "    mean_bp_distance_1 = np.mean(generation_bp_distance_1)\n",
    "    mean_bp_distance_2 = np.mean(generation_bp_distance_2)\n",
    "    \n",
    "    mean_fitness = np.mean([rna.fitness for rna in pop])\n",
    "\n",
    "\n",
    "    population_stats.setdefault('mean_bp_distance_1', []).append(mean_bp_distance_1)\n",
    "    population_stats.setdefault('mean_bp_distance_2', []).append(mean_bp_distance_2)\n",
    "    \n",
    "    population_stats.setdefault('mean_fitness', []).append(mean_fitness)\n",
    "    \n",
    "    return None"
   ]
  },
  {
   "cell_type": "markdown",
   "metadata": {},
   "source": [
    "## And finally.... evolution\n",
    "\n",
    "We can put all the above parts together in a simple function that does the following:\n",
    "\n",
    "1. start a new population and compute its fitness\n",
    "2. repeat the following for the desired number of generations:\n",
    "    1. record statistics on population\n",
    "    2. perform selection+mutation\n",
    "    3. store new population\n",
    "\n",
    "And that's it! We have an evolutionary reactor!"
   ]
  },
  {
   "cell_type": "code",
   "execution_count": null,
   "metadata": {
    "collapsed": true
   },
   "outputs": [],
   "source": [
    "def evolve(target, generations=10, pop_size=100, mutation_rate=0.001, beta=-2):\n",
    "    \"\"\"\n",
    "    Takes target structure and sets up initial population, performs selection and iterates for desired generations.\n",
    "    \"\"\"\n",
    "    #store list of all populations throughotu generations [[cells from generation 1], [cells from gen. 2]...]\n",
    "    populations = []\n",
    "    #start a dictionary that will hold some stats on the populations.\n",
    "    population_stats = {}\n",
    "    \n",
    "    #get a starting population\n",
    "    initial_population = ...\n",
    "    #compute fitness of initial population\n",
    "    compute_fitness(initial_population, target)\n",
    "\n",
    "    #set current_generation to initial population.\n",
    "    current_generation = initial_population\n",
    "\n",
    "    #iterate the selection process over the desired number of generations\n",
    "    for i in range(generations):\n",
    "\n",
    "        #let's get some stats on the structures in the populations   \n",
    "        record_stats(current_generation, population_stats)\n",
    "        \n",
    "        #add the current generation to our list of populations.\n",
    "        populations.append(...)\n",
    "\n",
    "        #select the next generation\n",
    "        new_gen = ...\n",
    "        #set current generation to be the generation we just obtained.\n",
    "        current_generation = new_gen \n",
    "    \n",
    "    return (populations, population_stats)"
   ]
  },
  {
   "cell_type": "markdown",
   "metadata": {},
   "source": [
    "Try a run of the `evolve()` function."
   ]
  },
  {
   "cell_type": "code",
   "execution_count": null,
   "metadata": {
    "collapsed": false
   },
   "outputs": [],
   "source": [
    "pops, pops_stats = evolve(\"(((....)))\", generations=20, pop_size=1000, mutation_rate=0.005, beta=-2)"
   ]
  },
  {
   "cell_type": "markdown",
   "metadata": {},
   "source": [
    "Let's see if it actually worked by plotting the average base pair distance as a function of generations for both genes in each cell. We should expect a gradual decrease as the populations get closer to the target structure."
   ]
  },
  {
   "cell_type": "code",
   "execution_count": null,
   "metadata": {
    "collapsed": false
   },
   "outputs": [],
   "source": [
    "def evo_plot(pops_stats):\n",
    "    \"\"\"\n",
    "    Plot base pair distance for each chromosome over generations.\n",
    "    \"\"\"\n",
    "    for m in ['mean_bp_distance_1', 'mean_bp_distance_2']:\n",
    "        plt.plot(..., label=m)\n",
    "    plt.legend()\n",
    "    plt.xlabel(\"Generations\")\n",
    "    plt.ylabel(\"Mean Base Pair Distance\")\n",
    "    \n",
    "evo_plot(pops_stats)"
   ]
  },
  {
   "cell_type": "markdown",
   "metadata": {},
   "source": [
    "You should see a nice drop in base pair distance! Another way of visualizing this is by plotting a histogram of the base pair distance of all Cells in the initial population versus the final population."
   ]
  },
  {
   "cell_type": "code",
   "execution_count": null,
   "metadata": {
    "collapsed": false
   },
   "outputs": [],
   "source": [
    "def bp_distance_distributions(pops):\n",
    "    \"\"\"\n",
    "    Plots histograms of base pair distance in initial and final populations.\n",
    "    \"\"\"\n",
    "    #plot bp_distance_1 for rnas in first population\n",
    "    g = sns.distplot([... for rna in pops[0]], label='initial population')\n",
    "    #plot bp_distance_1 for rnas in first population\n",
    "    g = sns.distplot([... for rna in pops[-1]], label='final population')\n",
    "    g.set(xlabel='Mean Base Pair Distance')\n",
    "    g.legend()\n",
    "bp_distance_distributions(pops)"
   ]
  },
  {
   "cell_type": "markdown",
   "metadata": {},
   "source": [
    "## Studying our evolved sequences with some Population Genetics tools\n",
    "\n",
    "Now that we've generated some sequences, we can analyze them!\n",
    "\n",
    "So after several rounds of selection, what do we get? We have a bunch of different sequences. We would like a way to characterize this diversity. One important tool for doing this is by making what is known as phylogenetic trees. \n",
    "\n",
    "Phylogenetic trees tell us about which groups of similar sequences are present and how they are likely related in evolutionary time. \n",
    "\n",
    "There are several ways of building phylogenetic trees using BioPython. Here we will go over one type and I'll leave another one as an exercise.\n",
    "\n",
    "### UPGMA (Unweighted Pair Group Method with Arithmetic Means)\n",
    "\n",
    "This is basically a clustering method based on the distance (or number of differences) between every pair of sequences. It assumes that sequences that are more similar are more likely to be related than the other way around. \n",
    "\n",
    "For $N$ sequences, the algorithm builds an $NxN$ matrix that stores the distance between each sequence to every other sequence. The algorithm goes through this matrix and finds the pair of sequences that is most similar and merges it into a 'cluster' or in tree terms, connects them to a common node. This process is repeated until all the sequences have been assigned to a group. Refer to the wikipedia article on [UPGMA](https://en.wikipedia.org/wiki/UPGMA) for a more detailed explanation. \n"
   ]
  },
  {
   "cell_type": "code",
   "execution_count": null,
   "metadata": {
    "collapsed": false,
    "slideshow": {
     "slide_type": "-"
    }
   },
   "outputs": [],
   "source": [
    "from Bio import SeqIO\n",
    "from Bio.Seq import Seq\n",
    "from Bio.SeqRecord import SeqRecord\n",
    "from Bio import AlignIO"
   ]
  },
  {
   "cell_type": "code",
   "execution_count": null,
   "metadata": {
    "collapsed": false
   },
   "outputs": [],
   "source": [
    "sequences = []\n",
    "#let's take the first 10 sequences of our population to keep things simple\n",
    "for seq in pops[-1][:10]:\n",
    "    #store each sequence in the sequences list as a SeqRecord object\n",
    "    sequences.append(SeqRecord(Seq(seq.sequence_1), id=str(seq.id)))\n",
    "    \n",
    "\n",
    "#write our sequences to fasta format\n",
    "with open(\"seq.fasta\", \"w+\") as f:\n",
    "    SeqIO.write(sequences, f, \"fasta\")"
   ]
  },
  {
   "cell_type": "markdown",
   "metadata": {},
   "source": [
    "The UPGMA algorithm requires a `MultipleSeqAlignment` object to build the distance matrix. So now that we have the `seq.fasta` file, we can give it to an online multiple sequence alignment tool. We can do this through BioPython but it requires some installation and setup so we will skip that for now. Go to the [MUSCLE Web Server](http://www.ebi.ac.uk/Tools/msa/muscle/) and give it the `seq.fasta` file. It will take a few seconds and it will give you an alignment and click *Download Alignment File*, copy paste the whole thing to a new file called `aln.clustal`. This is the alignment we will use to build our tree."
   ]
  },
  {
   "cell_type": "code",
   "execution_count": null,
   "metadata": {
    "collapsed": false
   },
   "outputs": [],
   "source": [
    "#open the alignmnent file\n",
    "with open(\"aln.clustal\", \"r\") as aln:\n",
    "    #use AlignIO to read the alignment file in 'clustal' format\n",
    "    alignment = AlignIO.read(...)"
   ]
  },
  {
   "cell_type": "code",
   "execution_count": null,
   "metadata": {
    "collapsed": false
   },
   "outputs": [],
   "source": [
    "from Bio.Phylo.TreeConstruction import DistanceCalculator\n",
    "\n",
    "#calculate the distance matrix\n",
    "calculator = DistanceCalculator('identity')\n",
    "#adds distance matrix based on our alignment to the calculator object and returns it\n",
    "dm = calculator.get_distance(...)\n",
    "print(dm)\n"
   ]
  },
  {
   "cell_type": "code",
   "execution_count": null,
   "metadata": {
    "collapsed": false
   },
   "outputs": [],
   "source": [
    "from Bio.Phylo.TreeConstruction import DistanceTreeConstructor\n",
    "\n",
    "#initialize a DistanceTreeConstructor object based on our distance calculator object\n",
    "constructor = DistanceTreeConstructor(calculator)\n",
    "\n",
    "#build the tree\n",
    "upgma_tree = constructor.build_tree(alignment)"
   ]
  },
  {
   "cell_type": "code",
   "execution_count": null,
   "metadata": {
    "collapsed": false
   },
   "outputs": [],
   "source": [
    "from Bio import Phylo\n",
    "import pylab\n",
    "#draw the tree\n",
    "Phylo.draw(...)"
   ]
  },
  {
   "cell_type": "markdown",
   "metadata": {},
   "source": [
    "## Introducing mating to the model\n",
    "\n",
    "The populations we generated evolved asexually. This means that individuals do not mate or exchange genetic information. So to make our simulation a bit more interesting let's let the Cells mate. This is going to require a few small changes in the `selection()` function. Previously, when we selected sequences to go into the next generation we just let them provide one offspring which was a copy of itself and introduced mutations. Now instead of choosing one Cell at a time, we will randomly choose two 'parents' that will mate. When they mate, each parent will contribute one of its chromosomes to the child. We'll repeat this process until we have filled the next generation."
   ]
  },
  {
   "cell_type": "code",
   "execution_count": null,
   "metadata": {
    "collapsed": false
   },
   "outputs": [],
   "source": [
    "def selection_with_mating(population, target, mutation_rate=0.001, beta=-2):\n",
    "    next_generation = []\n",
    "    \n",
    "    counter = 0\n",
    "    while len(next_generation) < len(population):\n",
    "        #select two parents based on their fitness\n",
    "        parents_pair = ...\n",
    "        \n",
    "        #take the sequence and structure from the first parent's first chromosome and give it to the child\n",
    "        child_chrom_1 = (parents_pair[0].sequence_1, parents_pair[0].structure_1)\n",
    "\n",
    "        #do the same for the child's second chromosome and the second parent.\n",
    "        child_chrom_2 = (parents_pair[1].sequence_2, parents_pair[1].structure_2)\n",
    "\n",
    "\n",
    "        #initialize the new child Cell witht he new chromosomes.\n",
    "        child_cell = Cell(...)\n",
    "\n",
    "        #give the child and id and store who its parents are\n",
    "        child_cell.id = counter\n",
    "        child_cell.parent_1 = parents_pair[0].id\n",
    "        child_cell.parent_2 = parents_pair[1].id\n",
    "\n",
    "        #add the child to the new generation\n",
    "        next_generation.append(child_cell)\n",
    "        \n",
    "        counter = counter + 1\n",
    "            \n",
    "        \n",
    "    #introduce mutations in next_generation sequeneces and re-fold when a mutation occurs (same as before)\n",
    "    for rna in next_generation:      \n",
    "        mutated_sequence_1, mutated_1 = mutate(rna.sequence_1, mutation_rate=mutation_rate)\n",
    "        mutated_sequence_2, mutated_2 = mutate(rna.sequence_2, mutation_rate=mutation_rate)\n",
    "\n",
    "        if mutated_1:\n",
    "            rna.sequence_1 = mutated_sequence_1\n",
    "            rna.structure_1 = nussinov(mutated_sequence_1)\n",
    "        if mutated_2:\n",
    "            rna.sequence_2 = mutated_sequence_2\n",
    "            rna.structure_2 = nussinov(mutated_sequence_2)\n",
    "        else:\n",
    "            continue\n",
    "\n",
    "    #update fitness values for the new generation\n",
    "    compute_fitness(next_generation, target, beta=beta)\n",
    "\n",
    "    return next_generation    \n",
    "\n",
    "#run a small test to make sure it works\n",
    "next_gen = selection_with_mating(pop, target)\n",
    "for cell in next_gen[:10]:\n",
    "    print(cell.sequence_1)"
   ]
  },
  {
   "cell_type": "markdown",
   "metadata": {},
   "source": [
    "Now we just have to update our `evolution()` function to call the new `selection_with_mating()` function."
   ]
  },
  {
   "cell_type": "code",
   "execution_count": null,
   "metadata": {
    "collapsed": false
   },
   "outputs": [],
   "source": [
    "def evolve_with_mating(target, generations=10, pop_size=100, mutation_rate=0.001, beta=-2):\n",
    "    populations = []\n",
    "    population_stats = {}\n",
    "    \n",
    "    initial_population = populate(target, pop_size=pop_size)\n",
    "    compute_fitness(initial_population, target)\n",
    "        \n",
    "    current_generation = initial_population\n",
    "\n",
    "    #iterate the selection process over the desired number of generations\n",
    "    for i in range(generations):\n",
    "        #let's get some stats on the structures in the populations   \n",
    "        record_stats(current_generation, population_stats)\n",
    "        \n",
    "        #add the current generation to our list of populations.\n",
    "        populations.append(current_generation)\n",
    "\n",
    "        #select the next generation, but this time with mutations\n",
    "        new_gen = ...\n",
    "        current_generation = new_gen \n",
    "    \n",
    "    return (populations, population_stats)"
   ]
  },
  {
   "cell_type": "markdown",
   "metadata": {},
   "source": [
    "Try out the new evolution model!"
   ]
  },
  {
   "cell_type": "code",
   "execution_count": null,
   "metadata": {
    "collapsed": false
   },
   "outputs": [],
   "source": [
    "pops_mating, pops_stats_mating = evolve_with_mating(\"(((....)))\", generations=20, pop_size=1000, beta=0)\n",
    "\n",
    "evo_plot(pops_stats_mating)"
   ]
  },
  {
   "cell_type": "markdown",
   "metadata": {},
   "source": [
    "## Hardy Weinberg Equilibrium\n",
    "\n",
    "When we are presented with data from a population we don't know much about. It is often useful to try to learn whether there are any evolutionary or behavioural influences that are shaping population dynamics. This could be in the form of selective pressure, mating preference, genetic drift, mutations, gene flow, etc. So in order to detect if something like this is happening we need to develop a test. This is where Hardy Weinberg comes in. \n",
    "\n",
    "The Hardy Weinberg equilibrium states that \"allele and genotype frequencies remain constant in the absence of other evolutionary influences. (such as the ones we mentioned above)\" - Wikipedia.\n",
    "\n",
    "So if we can measure allele/genotype frequencies (which we can do because we have sequences), we can see whether the HW principle holds true. If it does not, then we can do more digging to see what could be happening to shift populations away from equilibrium.\n",
    "\n",
    "In order to do this we need to define an 'allele'. An allele (for our purproses) will be a locus (position in a sequence) that can take one of two states, a *reference* state or an *alternate* state. For example, we can look at locus number **5** (position 5 in our RNA sequences) and call reference **C**, and alternate **G**. If we are in HW we can predict the frequency of each allele in our population.\n",
    "\n",
    "To simplify our notation we will call the alternate allele *A* and the reference allele *a*. We can write the probability of each allele as $p_{A} + p_{a} = 1$. Since we are dealing with diploid populations, each individual will have two copies of each locus so it can be $p_{AA}, p{Aa}, p{aA}, p{aa}$. By simple probability laws we can get an expression for the probability of each genotype based on the probabilities of the single loci $p_{a}$ and $p_{A}$.\n",
    "\n",
    "$$p_{aa}\\simeq p_{a}^2$$\n",
    "\n",
    "$$p_{AA}\\simeq p_{A}^2$$\n",
    "\n",
    "$$p_{Aa,~aA} \\simeq 2 p_{a} p_{A}.$$\n",
    "\n",
    "Since it is hard to know what the true probability of observing either $p_{a}$ and $p_{A}$ we can estimate this probability from our data as follows:\n",
    "\n",
    "$$\\hat p_a=\\frac{2N_{aa}+N_{aA}}{2N}=1-\\hat p_A.$$\n",
    "\n",
    "Where $N$ denotes the number of each genotype that we observe in our sequences. \n",
    "\n",
    "Based on these estimates we can expect the following frequencies for each genotype: \n",
    "\n",
    "$N_{aa}\\simeq e_{aa}=N \\hat p_a^2$\n",
    "\n",
    "$N_{AA}\\simeq e_{AA}= N \\hat p_{A}^2$\n",
    "\n",
    "$N_{Aa,~aA} \\simeq e_{Aa} = 2 N \\hat p_{a} \\hat p_{A}.$\n",
    "\n",
    "Now we have expected values, and observed values. We need a test to determine whether we have a significant departure from the hypothesis of Hardy Weinberg equilibrium. The statistical test that is commonly used is known as the $\\chi^{2}$ test. If you take a look at the equation you'll see that the statistic simply takes the squared difference between our observed value and the expected value (divided by expected) and sums this for each possible genotype. The reason we take the squared difference is because we want to deal only with positive values, hence the name $\\chi^{2}$.\n",
    "\n",
    "$$X^2= \\frac{(N_{aa}-e_{aa})^2}{e_{aa}}+ \\frac{(N_{Aa}-e_{Aa})^2}{e_{Aa}}+ \\frac{(N_{AA}-e_{AA})^2}{e_{AA}}.$$\n",
    "\n",
    "The first thing we need to do is get alleles from our sequence data. This boils down to going through each sequence at the position of interest and counting the number of $AA$, $Aa$, $aa$ we get.\n",
    "\n",
    "\n",
    "\\** the sections on Hardy Weinberg and F-statistics are adapted from Simon Gravel's HGEN 661 Notes"
   ]
  },
  {
   "cell_type": "code",
   "execution_count": null,
   "metadata": {
    "collapsed": false
   },
   "outputs": [],
   "source": [
    "def allele_finder(pop, locus, ref, alt):\n",
    "    genotypes = []\n",
    "    for p in pop:\n",
    "        #get the nucleotide at the locus from the first chromosome \n",
    "        locus_1 = p.sequence_1[locus].upper()\n",
    "        #same for the second\n",
    "        locus_2 = p.sequence_2[locus].upper()\n",
    "        \n",
    "        #check that it is either ref or alt, we don't care about other alleles for now.\n",
    "        if locus_1 in (ref, alt) and locus_2 in (ref, alt):\n",
    "            #if the alelle is ref, store a value of 1 in allele_1, and 0 otherwise\n",
    "            allele_1 = ...\n",
    "            #same for the second allele\n",
    "            allele_2 = ...\n",
    "            \n",
    "            #add allele to our list of alleles as a tuple. \n",
    "            genotypes.append(...)\n",
    "    return genotypes"
   ]
  },
  {
   "cell_type": "code",
   "execution_count": null,
   "metadata": {
    "collapsed": false
   },
   "outputs": [],
   "source": [
    "pop_hw, stats_hw = evolve_with_mating(\"(((....)))\", pop_size=1000, generations=10, beta=0, mutation_rate=0.005)\n",
    "alleles = allele_finder(pop_hw[-1], 5,  'C', 'G')\n",
    "print(alleles[:10])"
   ]
  },
  {
   "cell_type": "markdown",
   "metadata": {},
   "source": [
    "Now that we have alleles represented in the right form, we can see if our population is at Hardy Weinberg equilibrium using the $\\chi_{2}$ test and the equations above."
   ]
  },
  {
   "cell_type": "code",
   "execution_count": null,
   "metadata": {
    "collapsed": false
   },
   "outputs": [],
   "source": [
    "from scipy import stats\n",
    "from scipy.stats import chi2\n",
    "\n",
    "def hardy_weinberg_chi2_test(alleles):\n",
    "    \n",
    "    #store counts for N_AA, N_Aa/aA, N_aa\n",
    "    hom_ref_count = 0\n",
    "    het_count = 0\n",
    "    hom_alt_count = 0\n",
    "    \n",
    "    #each allele in the list alleles is in the form (0,0) or (0,1) or (1,0) or (1,1)\n",
    "    #count how many of each type we have\n",
    "    for a in alleles:\n",
    "        if (a[0]==0 and a[1]==0):\n",
    "            ...\n",
    "        elif ((a[0]==0 and a[1]==1) or (a[0]==1 and a[1]==0)):\n",
    "            ...\n",
    "        elif (...):\n",
    "            hom_alt_count += 1\n",
    "        else:\n",
    "            continue\n",
    "    \n",
    "    #total number of genotypes: N\n",
    "    genotype_count = hom_ref_count + het_count + hom_alt_count\n",
    "\n",
    "    #estimate p_a, p_A\n",
    "    alt_counts = (2 * ...) + het_count\n",
    "    ref_counts = (2 * ...) + het_count\n",
    "    \n",
    "    \n",
    "    #get expectations e_AA, e_aA,Aa, e_aa\n",
    "    hom_ref_expectation = ref_counts**2 / (4.*genotype_count) # the expected number of homozygote references  \n",
    "    het_expectation = ref_counts * alt_counts / (2.*genotype_count)  # the expected number of hets  \n",
    "    hom_alt_expectation = alt_counts**2 / (4.*genotype_count)  # the expected number of homozygote nonreferences  \n",
    "\n",
    "    #store observed values in list in the form [N_AA, N_aA,Aa, N_aa]\n",
    "    observations = [hom_ref_count, het_count, hom_alt_count]\n",
    "    #store expected values in the same form\n",
    "    expectations = [hom_ref_expectation, het_expectation, hom_alt_expectation]\n",
    "    \n",
    "    #start a dictionary that will store our results.\n",
    "    statistics = {\n",
    "                'hom_ref': (hom_ref_count, hom_ref_expectation),\n",
    "                'het': (het_count, het_expectation),\n",
    "                'hom_alt': (hom_alt_count, hom_alt_expectation), \n",
    "                'ref_counts': ref_counts, \n",
    "                'alt_counts': alt_counts,\n",
    "                'genotype_count': genotype_count\n",
    "                }\n",
    "\n",
    "    #call scipy function for chi2 test.\n",
    "    chi_2_statistic = stats.chisquare(observations, f_exp=expectations, ddof=1, axis=0)\n",
    "    \n",
    "    #return chi2 and statistics dictionary\n",
    "    return (chi_2_statistic, statistics)\n",
    "\n",
    "hardy_weinberg_chi2_test(alleles)"
   ]
  },
  {
   "cell_type": "markdown",
   "metadata": {},
   "source": [
    "Can we say that our population is at equilibrium? Can you find parameters for `evolution_with_mating()` that will give us populations outside of the HW equilibrium?"
   ]
  },
  {
   "cell_type": "markdown",
   "metadata": {},
   "source": [
    "## A brief interlude on the p-value\n",
    "\n",
    "Let's take a minute to understand what the p-value means. The p-value is a probability. Specifically, it is the probability of observing a value equal to or more extreme than that our statistic given the test distribution. So in our case, it is the probability of observing a $X^2$ greater than or equal to the one the test gives us under a $\\chi^2$ distribution. When this value is very small, it suggests that it is unlikely that we are sampling from our assumed 'null' distribution and that some other alternate distribution is the true distribution. So a low p-value here would be evidence against the neutral Hardy Weinberg model and would suggest that our population is experiencing some influences such as mating preference, selection, mutation etc.\n",
    "\n",
    "A lot of research bases its conclusions solely on p-value and it is important to be very wary of this bad practice. It has become a bad convention that people say a p-value lower than some arbitrary threshold means one's findings are significant. However, very often the p-value does not give us the whole story and we need to know about things like sample size, size of impact, reproducibility, power of the test, etc. (check this out [American Statistical Association statement on p-values](http://www.nature.com/news/statisticians-issue-warning-over-misuse-of-p-values-1.19503), [p-hacking](http://fivethirtyeight.com/features/science-isnt-broken/#part1), and [this](http://allendowney.blogspot.ca/2016/06/there-is-still-only-one-test.html))\n",
    "\n",
    "Let's just visualize this very quickly using the $\\chi^{2}_{1}$ distribution. You will see that the p-value corresponds to the shaded red area under the curve. That area is the probability of observing a value as extreme or more than the one we found. When that is a very small area, we can be more confident that our assumption of HW is false."
   ]
  },
  {
   "cell_type": "code",
   "execution_count": null,
   "metadata": {
    "collapsed": false
   },
   "outputs": [],
   "source": [
    "#number of samples to take from the x2 distribution.\n",
    "number_of_samples = 1000\n",
    "\n",
    "range_points = 2000\n",
    "range_start = 0\n",
    "\n",
    "degrees_of_freedom = 1\n",
    "\n",
    "range_end = chi2.ppf(1-1./number_of_samples, degrees_of_freedom)\n",
    "                     \n",
    "x_range = np.linspace(range_start, range_end, range_points) \n",
    "plt.plot(x_range, chi2.pdf(x_range, degrees_of_freedom))\n",
    "\n",
    "#find the index value of our statistic value. you can put in different values here.\n",
    "statistic = 0.5\n",
    "\n",
    "#find the index in x_range corresponding to the statistic value (within 0.01)\n",
    "point = 0\n",
    "for i, nb in enumerate(x_range):\n",
    "    if nb < statistic + .01 and nb > statistic - .01:\n",
    "        point = i\n",
    "\n",
    "#fill area under the curve representing p-value\n",
    "plt.fill_between(x_range[point:], chi2.pdf(x_range, degrees_of_freedom)[point:], alpha=0.3, color=\"red\")\n",
    "\n",
    "plt.xlabel(\"X-statistic\")\n",
    "plt.ylabel(r\"$\\chi^2_%d$\" % degrees_of_freedom)\n"
   ]
  },
  {
   "cell_type": "markdown",
   "metadata": {
    "collapsed": true
   },
   "source": [
    "## Population structure: F-statistics\n",
    "\n",
    "The last topic we'll cover is F-statistics. \n",
    "\n",
    "Once we find that our population strays from the HW condition we can begin to ask why that is the case. Often this deviation from the expected allele frequencies under HW is due to mating preference. Hardy Weinberg assumes that all individuals in a population have an equal probability of mating with any other individual (random mating). However, when certain individuals prefer to mate with specific others (in real populations this can be due to culture, race, geographic barriers, etc.), you get what is known as population structure. Population structure means that we begin to see *sub-populations* within our total population where individuals prefer to mate within their sub-population. This biased mating will result in a higher number of homozygotes than we would expect under Hardy-Weinberg equilibrium. Simply because mating preferences will tend to drive populations toward similar genotypes. So if this is the case, and no other factors are biasing allele dynamics, within sub-populations we should have Hardy-Weinberg like conditions. \n",
    "\n",
    "For example, if Raptors fans prefer to mate with other Raptors fans, then when we consider only Raptors fans, we should observe random mating. Simply because if the mating preference criterion is 'being a Raptor's fan' then any Raptor's fan will be equally likely to mate with any other Raptor's fan so we have Hardy Weinberg again.\n",
    "\n",
    "Let's express this in quantities we can measure.\n",
    "\n",
    "From before we calculated the observed and expected number of heterozygotes in a population. Let's call these $\\hat H$ and $H_{IT}$ respectively. $\\hat H$ is just the count of heterozygotes, and $H_{IT}$ is the same as the expected number of heterozygotes we calculated earlier.\n",
    "\n",
    "We define a quantity $e_{IT}$ as a measure of the 'excess heterozygosity' in the population when we consider all individuals $I$ in the total population $T$. $e_{IT} > 1$ when we have more heterozygotes than we expect under HW. And $0 < e_{IT} < 1$ if we have less heterozygotes than we would expect under HW.\n",
    "\n",
    "\n",
    "$$e_{IT}=\\frac{\\mbox{observed proportion of hets}}{\\mbox{expected proportion of hets}}=\\frac{ H_{obs}}{H_{IT}}$$\n",
    "\n",
    "We use $e_{IT}$ to define the statistic $F_{IT}$\n",
    "\n",
    "$$F_{IT}=1-e_{IT}$$\n",
    "\n",
    "So $F_{IT} > 0$ when we have a lack of heterozygotes and $F_{IT} < 0$ when we have an excess of heterozygotes. $F_{IT} = 0$ under random mating.\n",
    "\n",
    "When we have a subpropulation $S$ we can calculate the equivalent quantity but instead of considering heterozygosity in the whole population we only take a sub-population into account.\n",
    "\n",
    "$$e_{IS} = \\frac{H_{obs}}{H_{IS}}$$\n",
    "\n",
    "And lastly, we have $F_{ST}$. This one is not as intuitive to derive so I'm not including the derivation here. But basically it measure the excess heterozygosity in the total population due to the presence of two subpopulations with allele frequencies $p_{1}$ and $p_{2}$.\n",
    "\n",
    "$$F_{ST}= \\frac{(p_1-p_2)^2}{4 p (1-p)}$$"
   ]
  },
  {
   "cell_type": "code",
   "execution_count": null,
   "metadata": {
    "collapsed": false
   },
   "outputs": [],
   "source": [
    "def F_statistics(total_pop, sub_pop_1, sub_pop_2):   \n",
    "    \"\"\"\n",
    "    Uses definitions above and allele counts from two sub-populations and a total population to compute F-statistics.\n",
    "    \"\"\"\n",
    "    #recall that the input dictionaries each contain a tuple in the form(observed, expected) for each genotype\n",
    "    f_IT = 1 - total_pop['het'][0] / (1. * total_pop['het'][1])\n",
    "    \n",
    "        \n",
    "    f_IS_1 = ...\n",
    "    f_IS_2 = ...   \n",
    "    \n",
    "    p1 = sub_pop_1['ref_counts'] / (1. * sub_pop_1['genotype_count'])\n",
    "    p2 = sub_pop_2['ref_counts'] / (1. * sub_pop_2['genotype_count'])\n",
    "    \n",
    "    p = total_pop['ref_counts'] / (1. * total_pop['genotype_count'])\n",
    "    \n",
    "    f_ST = ...\n",
    "    \n",
    "    F_dict = {\n",
    "        'f_IT': f_IT,\n",
    "        'f_IS_1': f_IS_1,\n",
    "        'f_IS_2': f_IS_2,\n",
    "        'f_ST': f_ST\n",
    "    }\n",
    "    \n",
    "    return F_dict"
   ]
  },
  {
   "cell_type": "markdown",
   "metadata": {},
   "source": [
    "Let's get some data for our F-tests. First we need to evolve two populations indepenently of each other, to simulate isolated mating. Then to simulate the total population we combine the two sub-populations. We then use our `allele_finder()` function to get all the alleles, and the `hardy_weinberg_chi_2_test()` function to get our expected and observed counts. Finally we plug those into the `f_statistics()` function."
   ]
  },
  {
   "cell_type": "code",
   "execution_count": null,
   "metadata": {
    "collapsed": false
   },
   "outputs": [],
   "source": [
    "generation = -1\n",
    "\n",
    "#run two independent simulations\n",
    "sub_pop_1, sub_pop_1_stats= ...\n",
    "sub_pop_2, sub_pop_2_stats= ..."
   ]
  },
  {
   "cell_type": "code",
   "execution_count": null,
   "metadata": {
    "collapsed": false
   },
   "outputs": [],
   "source": [
    "#merge the two populations into a total population.\n",
    "total_pop = sub_pop_1[generation] + sub_pop_2[generation]\n",
    "\n",
    "\n",
    "#choose a reference and alternate allele\n",
    "ref_allele = \"A\"\n",
    "alt_allele = \"G\"\n",
    "\n",
    "#choose the position of the locus of interest.\n",
    "locus = 1\n",
    "\n",
    "#get list of alleles for each population\n",
    "total_pop_alleles = allele_finder(total_pop, locus, ref_allele, alt_allele)\n",
    "sub_pop_1_alleles = allele_finder(sub_pop_1[generation],locus, ref_allele, alt_allele)\n",
    "sub_pop_2_alleles = allele_finder(sub_pop_2[generation],locus, ref_allele, alt_allele)\n",
    "\n",
    "#get homo/het expectations using hardy weinberg function\n",
    "total_pop_counts = hardy_weinberg_chi2_test(total_pop_alleles)[1]\n",
    "sub_pop_1_counts = hardy_weinberg_chi2_test(sub_pop_1_alleles)[1]\n",
    "sub_pop_2_counts = hardy_weinberg_chi2_test(sub_pop_2_alleles)[1]\n",
    "\n",
    "#call f-statistics function\n",
    "f_statistics = F_statistics(...)\n",
    "print(f_statistics)"
   ]
  },
  {
   "cell_type": "markdown",
   "metadata": {},
   "source": [
    "Try playing with different evolution parameters and see the effect on the different F-statistics. This workshop is a work in progress so there may be some biases in our simulation scheme that can make for come confusing F-statistics. If you come up with anything interesting I would love to know about it."
   ]
  },
  {
   "cell_type": "markdown",
   "metadata": {},
   "source": [
    "## Exercises / Extra Material\n",
    "\n",
    "### Programming Exercises\n",
    "\n",
    "i. *Heatmap of mutation rates vs. population sizes.* (short) \n",
    "\n",
    "Make a heatmap that plots the base pair distance of the average base pair distance of the population at generation `-1` for mutation rates $\\mu = \\{0, 0.001, 0.01, 0.1, 0.5\\}$ and population sizes $N=\\{10, 100, 1000, 10000\\}$. The resulting heatmap will be `5x4` dimensions. You may choose how many generations to evolve your populations, just plot the last one in the heatmap."
   ]
  },
  {
   "cell_type": "code",
   "execution_count": null,
   "metadata": {
    "collapsed": false
   },
   "outputs": [],
   "source": [
    "#lists of mutation rates and population sizes to test\n",
    "mutation_rates = [0, 0.001, 0.01, 0.1, 0.5]\n",
    "population_sizes = [10, 100, 1000, 10000]\n",
    "\n",
    "#number of generations to run each simulation\n",
    "generations = 1\n",
    "#target structure\n",
    "target = \"(.((....)))\"\n",
    "\n",
    "...\n",
    "...\n",
    "..."
   ]
  },
  {
   "cell_type": "markdown",
   "metadata": {},
   "source": [
    "ii. *Introduce mating preferences within a population.* (medium length) \n",
    "\n",
    "Modify the `selection_with_mating()` function to allow for mating preferences within a population. In our example above we were just running two independent simulations to study barriers to gene flow. But now you will implement mating preferences within a single simulation. Your function will assign each Cell a new attribute called `self.preference` which will take a string value denoting the mating type the current cell prefers to mate with. For example we can have a population with three mating types: $\\{A, B, C\\}$. Your function will randomly assign preferences to each cell in the initial population. We will define a preference between types $A$ and $B$ as the probability that two cells of those given types will mate if selected. \n",
    "\n",
    "$$\n",
    "preferences(A,B,C) = \n",
    "\\begin{bmatrix}\n",
    "   0.7 & 0.1 & 0.2 \\\\\n",
    "   0.1 & 0.9 & 0   \\\\\n",
    "   0.2 & 0   & 0.8 \\\\\n",
    "\\end{bmatrix}\n",
    "$$\n",
    "\n",
    "Once you selected two potential parents for mating (as we did earlier) you will use the matrix to evaluate whether or not the two parents will mate and contribute an offspring to the next generation. "
   ]
  },
  {
   "cell_type": "code",
   "execution_count": null,
   "metadata": {
    "collapsed": false
   },
   "outputs": [],
   "source": [
    "def populate_with_preferences(target, preference_types, pop_size=100):\n",
    "    \n",
    "    population = []\n",
    "\n",
    "    for i in range(pop_size):\n",
    "        #get a random sequence to start with\n",
    "        sequence = \"\".join([random.choice(\"AUCG\") for _ in range(len(target))])\n",
    "        #use nussinov to get the secondary structure for the sequence\n",
    "        structure = nussinov(sequence)\n",
    "        #add a new Cell object to the population list\n",
    "        new_cell = Cell(sequence, structure, sequence, structure)\n",
    "        new_cell.id = i\n",
    "        new_cell.parent = i\n",
    "        \n",
    "        #assign preference\n",
    "        new_cell.preference = random.choice(preference_types)\n",
    "        population.append(new_cell)\n",
    "            \n",
    "    return population\n",
    "\n",
    "def selection_with_mating_preference(population, target, preference_matrix, preference_types, mutation_rate=0.001, beta=-2):\n",
    "    next_generation = []\n",
    "    \n",
    "    counter = 0\n",
    "    while len(next_generation) < len(population):\n",
    "        #select two parents based on their fitness\n",
    "        parents_pair = np.random.choice(population, 2, p=[rna.fitness for rna in population], replace=False)\n",
    "        \n",
    "        #look up probabilty of mating in the preference_matrix\n",
    "        mating_probability = preference_matrix[...][...]\n",
    "        \n",
    "        r = random.random()\n",
    "        #if random number below mating_probability, mate the Cells as before\n",
    "        if ...:\n",
    "            #take the sequence and structure from the first parent's first chromosome and give it to the child\n",
    "            child_chrom_1 = (parents_pair[0].sequence_1, parents_pair[0].structure_1)\n",
    "\n",
    "            #do the same for the child's second chromosome and the second parent.\n",
    "            child_chrom_2 = (parents_pair[1].sequence_2, parents_pair[1].structure_2)\n",
    "\n",
    "\n",
    "            #initialize the new child Cell witht he new chromosomes.\n",
    "            child_cell = Cell(child_chrom_1[0], child_chrom_1[1], child_chrom_2[0], child_chrom_2[1])\n",
    "\n",
    "            #give the child and id and store who its parents are\n",
    "            child_cell.id = counter\n",
    "            child_cell.parent_1 = parents_pair[0].id\n",
    "            child_cell.parent_2 = parents_pair[1].id\n",
    "            \n",
    "            #give the child a random preference\n",
    "            child_cell.preference = random.choice(preference_types)\n",
    "\n",
    "            #add the child to the new generation\n",
    "            next_generation.append(child_cell)\n",
    "\n",
    "            counter = counter + 1\n",
    "            \n",
    "        \n",
    "    #introduce mutations in next_generation sequeneces and re-fold when a mutation occurs (same as before)\n",
    "    for rna in next_generation:      \n",
    "        mutated_sequence_1, mutated_1 = mutate(rna.sequence_1, mutation_rate=mutation_rate)\n",
    "        mutated_sequence_2, mutated_2 = mutate(rna.sequence_2, mutation_rate=mutation_rate)\n",
    "\n",
    "        if mutated_1:\n",
    "            rna.sequence_1 = mutated_sequence_1\n",
    "            rna.structure_1 = nussinov(mutated_sequence_1)\n",
    "        if mutated_2:\n",
    "            rna.sequence_2 = mutated_sequence_2\n",
    "            rna.structure_2 = nussinov(mutated_sequence_2)\n",
    "        else:\n",
    "            continue\n",
    "\n",
    "    #update fitness values for the new generation\n",
    "    compute_fitness(next_generation, target, beta=beta)\n",
    "\n",
    "    return next_generation    \n",
    "\n",
    "\n",
    "def evolve_with_mating_preferences(target, preference_types, preference_matrix,\\\n",
    "                                   generations=10, pop_size=100, mutation_rate=0.001, beta=-2):\n",
    "    populations = []\n",
    "    population_stats = {}\n",
    "    \n",
    "    initial_population = populate_with_preferences(target, preference_types, pop_size=pop_size)\n",
    "    compute_fitness(initial_population, target)\n",
    "        \n",
    "    current_generation = initial_population\n",
    "\n",
    "    #iterate the selection process over the desired number of generations\n",
    "    for i in range(generations):\n",
    "        #let's get some stats on the structures in the populations   \n",
    "        record_stats(current_generation, population_stats)\n",
    "        \n",
    "        #add the current generation to our list of populations.\n",
    "        populations.append(current_generation)\n",
    "\n",
    "        #select the next generation, but this time with mutations\n",
    "        new_gen = selection_with_mating_preference(current_generation, target, preference_matrix, \\\n",
    "                                                   preference_types, mutation_rate=mutation_rate, beta=beta)\n",
    "        current_generation = new_gen \n",
    "    \n",
    "    return (populations, population_stats)\n",
    "\n",
    "\n",
    "\n",
    "#run a small test to make sure it works\n",
    "target = \".(((....)))\"\n",
    "#for convenience, let's give the preference types integer values in sequential order\n",
    "preference_types = [0,1,2]\n",
    "\n",
    "preference_matrix = np.array([[0.7, 0.1, 0.2],[0.1, 0.9, 0],[0.2, 0, 0.8]])\n",
    "    \n",
    "pops, pop_stats = evolve_with_mating_preferences(target, preference_types, preference_matrix)\n",
    "\n",
    "for cell in pops[-1][:10]:\n",
    "    print(cell.sequence_1)"
   ]
  },
  {
   "cell_type": "markdown",
   "metadata": {},
   "source": [
    "### Population Genetics / Bioinformatics Exercises\n",
    "\n",
    "*Exercise 1.  Make a tree using maximum parsimony.*\n",
    "\n",
    "We saw how to make trees using a distance score. Another popular method is known as the maximum parsimony approach. I won't go into too much detail on this since we are short on time, but I will give a quick intro and we'll look at how ot make a tree using maximum parsimony.\n",
    "\n",
    "This approach is based on the principle of parsimony, which states that the simplest explanation for our data is the most likely to be true. So given an alignment, we assume that the best tree is the one that minimizes the number of changes, or mutations. This is often a reasonable assumption to make since mutation rates in real populations are generally low, and things like back-mutations (e.g. A --> C --> A) are unlikely. Computing the tree that that maximizes parsimony directly is a difficult task, but evaluating the parsimony score of a tree given the tree is easy. So this approach basically generates many random trees for the data and scores them based on parsimony keeping the most parsimonious tree. Take a look at [the biopython manual to work through this example](http://biopython.org/wiki/Phylo), and [this one](http://biopython.org/DIST/docs/api/Bio.Phylo.TreeConstruction.ParsimonyTreeConstructor-class.html).\n",
    "\n",
    "Since we already have an alignment (`aln.clustal`) we will just re-use it and make a maximum parsimony tree instead. "
   ]
  },
  {
   "cell_type": "code",
   "execution_count": null,
   "metadata": {
    "collapsed": false
   },
   "outputs": [],
   "source": [
    "from Bio.Phylo.TreeConstruction import *\n",
    "\n",
    "#open our alignment file (or make a new one if you want)\n",
    "with open('aln.clustal', 'r') as align:\n",
    "    aln = AlignIO.read(align, 'clustal')\n",
    "\n",
    "#create a parsimony scorer object\n",
    "scorer = ParsimonyScorer()\n",
    "#the searcher object will search through possible trees and score them.\n",
    "searcher = NNITreeSearcher(scorer)\n",
    "\n",
    "#takes our searcher object and a seed tree (upgma_tree) to find the best tree\n",
    "constructor = ParsimonyTreeConstructor(searcher, upgma_tree)\n",
    "\n",
    "#build the tree \n",
    "parsimony_tree = constructor.build_tree(...)\n",
    "\n",
    "#draw the tree\n",
    "Phylo.draw(...)"
   ]
  },
  {
   "cell_type": "markdown",
   "metadata": {},
   "source": [
    "*Exercise 2. Bootstrapping*\n",
    "\n",
    "We just saw two methods of growing phylogenetic trees given an alignment. However, as we saw with the maximum parsimony approach, there can be many different trees for a single data set. How do we know our tree is a good representation of the data? By 'good' here we will instead use the word 'robust'. Is the tree we use too sensitive to the particularities of the data we gave it? If we make a small change in the sequence will we get a very different tree? Normally these problems would be addressed by re-sampling and seeing if we obtain similar results. But we can't really re-sample evolution. It happened once and we can't make it happen again. So we use something called *bootstrapping* which is a technique often used in statistics where instead of generating new data, you re-sample from your present data.\n",
    "\n",
    "So we have a multiple sequence alignment with $M$ sequences (rows) each with sequences of length $N$ nucleotides (columns). For each row, we can randomly sample $N$ nucleotides with replacement to make a new 'bootstrapped' sequence also of length $N$. Think of it as a kind of shuffling of the data. This gives us a whole new alignment that we can again use to make a new tree.\n",
    "\n",
    "This process is repeated many times to obtain many trees. The differences in topology (shape/structure) of the trees we obtained are assessed. If after this shuffling/perturbations we still get similar enough looking trees we can say that our final tree is robust to small changes in the data. ([some more reading on this](http://projecteuclid.org/download/pdf_1/euclid.ss/1063994979))\n",
    "\n",
    "Let's run a small example of this using the bootstrapping functions in `BioPython`."
   ]
  },
  {
   "cell_type": "code",
   "execution_count": null,
   "metadata": {
    "collapsed": false
   },
   "outputs": [],
   "source": [
    "from Bio.Phylo.Consensus import *\n",
    "\n",
    "#open our alignment file.\n",
    "with open('aln.clustal', 'r') as align:\n",
    "    aln = AlignIO.read(align, 'clustal')\n",
    "\n",
    "#take 5 bootstrap samples from our alignment\n",
    "bootstraps = bootstrap(aln,5)\n",
    "\n",
    "#let's print each new alignment in clustal format. you should see 5 different alignments.\n",
    "for b in bootstraps:\n",
    "    print(b.format('clustal'))"
   ]
  },
  {
   "cell_type": "code",
   "execution_count": null,
   "metadata": {
    "collapsed": false
   },
   "outputs": [],
   "source": [
    "#now we want to use the bootstrapping to make new trees based on the new samples. we'll go back to making UPGMA trees.\n",
    "\n",
    "#start a calculator that uses sequence identity to calculate differences\n",
    "calculator = DistanceCalculator('identity')\n",
    "#start a distance tree constructor object \n",
    "constructor = DistanceTreeConstructor(calculator)\n",
    "#generate 5 bootstrap UPGMA trees\n",
    "trees =  bootstrap_trees(aln, 5, constructor)\n",
    "\n",
    "#let's look at the trees. (if you have few samples, short sequences the trees might look very similar)\n",
    "for t in trees:\n",
    "    Phylo.draw(t)"
   ]
  },
  {
   "cell_type": "code",
   "execution_count": null,
   "metadata": {
    "collapsed": false
   },
   "outputs": [],
   "source": [
    "#biopython gives us a useful function that puts all this together by bootstrapping trees and making a 'consensus' tree.\n",
    "consensus_tree = bootstrap_consensus(aln, 100, constructor, majority_consensus)\n",
    "Phylo.draw(consensus_tree)"
   ]
  },
  {
   "cell_type": "markdown",
   "metadata": {},
   "source": [
    "*Exercise 3. T-tests*\n",
    "\n",
    "Similarly to the $\\chi^{2}$ test we saw for testing deviations from HW equilibrium, we can use a T-test to compare differences in means between two independent samples. We can use this to revisit a the first programming question in the exercsies section. Does mutation rate and population size have an effect on the fitness of populations? We can translate this question to, is there a difference in the mean base pair distance between populations under different mutation and population size regimes?\n",
    "\n",
    "Scipy has a very useful function that implements the T-test called `scipy.stats.ttest_ind`. Run two independent simulations (with different mutation rates) and compute the difference in mean bp distance between the two at their final generation. Store the populations in two different variables. Give a list of `bp_distance_1` values for each memeber of the population to `ttest_ind()`. \n",
    "\n",
    "Make sure to read teh `ttest_ind()` documentation, particularly about the argumetn `equal_var`. What should we set it to?"
   ]
  },
  {
   "cell_type": "code",
   "execution_count": null,
   "metadata": {
    "collapsed": false
   },
   "outputs": [],
   "source": [
    "import collections\n",
    "\n",
    "target = \"..(((....).))\"\n",
    "\n",
    "#run two simulations\n",
    "hi_mut_pop, hi_mut_stats = evolve(target, generations=5, pop_size=1000, mutation_rate=0.5)\n",
    "lo_mut_pop, hi_mut_stats = evolve(target, generations=5, pop_size=1000, mutation_rate=0.05)\n",
    "\n",
    "#store lits of base pair distances for each population at last generation.\n",
    "hi_bps = [... for p in hi_mut_pop[-1]]\n",
    "lo_bps = [... for p in lo_mut_pop[-1]]\n",
    "\n",
    "#run the \n",
    "stats.ttest_ind(...)"
   ]
  },
  {
   "cell_type": "markdown",
   "metadata": {},
   "source": [
    "### Bonus! (difficult programming exercise)\n",
    "1. *Nussinov Algorithm (Only try this if you are feeling brave and are done with the other exercises or are interested in getting a taste of Computer Science. It is beyond the scope of this workshop. If you would like more info or help on this feel free to send me an email!)*\n",
    "\n",
    "There are several approaches for solving this problem, we will look at the simplest one here which is known as the Nussinov Algorithm. This algorithm is a popular example of a class of algorithms know as dynamic programming algorithms. The main idea behind these algorithms is that we can break down the problem into many subproblems which are easier to compute than the full problem. Once we have obtained the solution for the subproblems, we can retrieve the solution to the full problem by doing something called a backtrace (more on the backtrace later). \n",
    "\n",
    "Here, the problem is obtaining the optimal pairing on a string of nucleotides. In order to know how good our structure is, we assign a score to it. One possible scoring scheme could be adding 1 to the score per paired set of nucleotides, and 0 otherwise. So in other words, we want a pairing that will give us the highest possible score. We can write this quantity as $OPT(i, j)$ where $i$ and $j$ are the indices of the sequence between which we obtain the pairing score. Our algorithm is therefore going to compute a folding score for all substrings bound by $i$ and $j$ and store the value in what is known as a dynamic programming table. Our dynamic programming table will be a $N$ x $N$ array where $N$ is the length of our sequence. So now that we have a way of measuring how good a structure is, we need a way to evaluate scores given a subsequence. To do this, we set some rules on the structure of an RNA sequence:\n",
    "\n",
    "\n",
    "If $i$ and $j$ form a pair:\n",
    "1. The pair $i$ and $j$ must form a valid watson-crick pair.\n",
    "2. $i < j-4$. This ensures that bonding is not happening between positions that are too close to each other, which would produce steric clashes.\n",
    "3. If pair $(i,j)$ and $(k, l)$ are in the structure, then $i < k < j < l$. This ensures that there is no crossing over of pairs which would result in pseudoknots.\n",
    "4. No base appears in more than one pair.\n",
    "\n",
    "Using these rules we can begin to build our algorithm. The first part of our algorithm needs to take as input indices $i$ and $j$ and return the value $OPT(i,j)$ which is the optimal score of a structure between $i$ and $j$. We start by thinking about values of $i$ and $j$ for which we can immediately know the solution, this is known as a 'base case'.  This is a case where the solution is known and no further recursion is required. Once the algorithm reaches the base case, it can return a solution and propagate it upward to the first recursive call. So once we have reached $i$ and $j$ that are too close to form a structure (rule number 2), we know that the score is 0. \n",
    "\n",
    "Otherwise, we must weigh the possibility of forming a pair or not forming a pair. If $i$ and $j$ are unpaired, then $OPT(i,j)$ is just $OPT(i, j-1)$ since the score will not increase for unpaired indices. \n",
    "\n",
    "The other case is that $i$ is paired to some index $t$ on the interval $[i,j]$. We then add 1 to the score and consider the structure formed before and after the pairing between $i$ and $t$. We can write these two cases as $OPT(i, t-1)$ and $OPT(t+1, j)$. But how do we know which $t$ to pair $i$ with? Well we simply try all possible values of $t$ within the allowed range and choose the best one. \n",
    "\n",
    "All of this can be summed up as follows:\n",
    "\n",
    "$$ OPT(i,j) = max\\begin{cases}\n",
    "                OPT(i, j-1) \\quad \\text{If $i$ and $j$ are not paired with each other.}\\\\\n",
    "                max(1 + OPT(i, t-1) + OPT(t+1, j)) \\quad \\text{Where we try all values of $t$ < j - 4}\n",
    "                \\end{cases}$$\n",
    "\n",
    "\n",
    "We can now use this recursion to fill our dynamic programming table. Once we have filled the table with scores, we can retrieve the optimal folding by a process called backtracking. We won't go into detail on how this works, but the main idea is that we can start by looking at the entry containing the score for the full sequence $OPT[0][N]$. We can then look at adjacent entries and deduce which case (pairing or not pairing) resulted in the current value. We can continue like this for the full table until we have retrieved the full structure."
   ]
  },
  {
   "cell_type": "code",
   "execution_count": null,
   "metadata": {
    "collapsed": true
   },
   "outputs": [],
   "source": [
    "min_loop_length = 4\n",
    "\n",
    "def pair_check(tup):\n",
    "    if tup in [('A', 'U'), ('U', 'A'), ('C', 'G'), ('G', 'C')]:\n",
    "        return True\n",
    "    return False\n",
    "\n",
    "def OPT(i,j, sequence):\n",
    "    \"\"\" returns the score of the optimal pairing between indices i and j\"\"\"\n",
    "    #base case: no pairs allowed when i and j are less than 4 bases apart\n",
    "    if i >= j-min_loop_length:\n",
    "        ...\n",
    "    else:\n",
    "        #i and j can either be paired or not be paired, if not paired then the optimal score is ...\n",
    "        unpaired = ...\n",
    "\n",
    "        #check if j can be involved in a pairing with a position t\n",
    "        pairing = [...]\n",
    "        if not pairing:\n",
    "            pairing = [0]\n",
    "        paired = max(...)\n",
    "\n",
    "\n",
    "        return max(unpaired, paired)\n",
    "\n",
    "\n",
    "def traceback(i, j, structure, DP, sequence):\n",
    "    #in this case we've gone through the whole sequence. Nothing to do.\n",
    "    if j <= i:\n",
    "        return\n",
    "    #if j is unpaired, there will be no change in score when we take it out, so we just recurse to the next index\n",
    "    elif DP[i][j] == DP[i][j-1]:\n",
    "        traceback(i, j-1, structure, DP, sequence)\n",
    "    #hi\n",
    "    else:\n",
    "        #try pairing j with a matching index k to its left.\n",
    "        for k in [b for b in range(i, j-min_loop_length) if pair_check((sequence[b], sequence[j]))]:\n",
    "            #if the score at i,j is the result of adding 1 from pairing (j,k) and whatever score\n",
    "            #comes from the substructure to its left (i, k-1) and to its right (k+1, j-1)\n",
    "            if k-1 < 0:\n",
    "                if DP[i][j] == DP[k+1][j-1] + 1:\n",
    "                    structure.append((k,j))\n",
    "                    traceback(k+1, j-1, structure, DP, sequence)\n",
    "                    break\n",
    "            elif DP[i][j] == DP[i][k-1] + DP[k+1][j-1] + 1:\n",
    "                #add the pair (j,k) to our list of pairs\n",
    "                structure.append((k,j))\n",
    "                #move the recursion to the two substructures formed by this pairing\n",
    "                traceback(i, k-1, structure, DP, sequence)\n",
    "                traceback(k+1, j-1, structure, DP, sequence)\n",
    "                break\n",
    "\n",
    "def write_structure(sequence, structure):\n",
    "    dot_bracket = [\".\" for _ in range(len(sequence))]\n",
    "    for s in structure:\n",
    "        dot_bracket[min(s)] = \"(\"\n",
    "        dot_bracket[max(s)] = \")\"\n",
    "    return \"\".join(dot_bracket)\n",
    "\n",
    "\n",
    "#initialize matrix with zeros where can't have pairings\n",
    "def initialize(N):\n",
    "    #NxN matrix that stores the scores of the optimal pairings.\n",
    "    DP = np.empty((N,N))\n",
    "    DP[:] = np.NAN\n",
    "    for k in range(0, min_loop_length):\n",
    "        for i in range(N-k):\n",
    "            j = i + k\n",
    "            DP[i][j] = 0\n",
    "    return DP\n",
    "\n",
    "def nussinov(sequence):\n",
    "    N = len(sequence)\n",
    "    DP = initialize(N)\n",
    "    structure = []\n",
    "\n",
    "    #fill the DP matrix\n",
    "    for k in range(min_loop_length, N):\n",
    "        for i in range(N-k):\n",
    "            j = i + k\n",
    "            DP[i][j] = OPT(i,j, sequence)\n",
    "\n",
    "    #copy values to lower triangle to avoid null references\n",
    "    for i in range(N):\n",
    "        for j in range(0, i):\n",
    "            DP[i][j] = DP[j][i]\n",
    "\n",
    "\n",
    "    traceback(0,N-1, structure, DP, sequence)\n",
    "    return (sequence, write_structure(sequence, structure))\n",
    "\n",
    "print(nussinov(\"ACCCGAUGUUAUAUAUACCU\"))"
   ]
  }
 ],
 "metadata": {
  "kernelspec": {
   "display_name": "Python 2",
   "language": "python",
   "name": "python2"
  },
  "language_info": {
   "codemirror_mode": {
    "name": "ipython",
    "version": 2
   },
   "file_extension": ".py",
   "mimetype": "text/x-python",
   "name": "python",
   "nbconvert_exporter": "python",
   "pygments_lexer": "ipython2",
   "version": "2.7.11"
  }
 },
 "nbformat": 4,
 "nbformat_minor": 0
}
