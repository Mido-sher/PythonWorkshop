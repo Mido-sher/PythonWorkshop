{
 "cells": [
  {
   "cell_type": "code",
   "execution_count": 2,
   "metadata": {
    "collapsed": false
   },
   "outputs": [],
   "source": [
    "import pandas as pd\n",
    "from pandas import Series,DataFrame\n",
    "import numpy as np\n",
    "\n",
    "import matplotlib.pyplot as plt\n",
    "import seaborn as sns\n",
    "sns.set_style('whitegrid')\n",
    "%matplotlib inline\n",
    "from __future__ import division"
   ]
  },
  {
   "cell_type": "code",
   "execution_count": 3,
   "metadata": {
    "collapsed": true
   },
   "outputs": [],
   "source": [
    "# request module to import data\n",
    "# api for gathering information\n",
    "import requests\n",
    "\n",
    "# string IO allows to work from csv to .read()\n",
    "from StringIO import StringIO"
   ]
  },
  {
   "cell_type": "code",
   "execution_count": 4,
   "metadata": {
    "collapsed": true
   },
   "outputs": [],
   "source": [
    "\n",
    "# grab the data from the url\n",
    "url = \"http://elections.huffingtonpost.com/pollster/2016-general-election-trump-vs-clinton.csv\"\n",
    "\n",
    "# get information int ext form\n",
    "source = requests.get(url).text\n",
    "\n",
    "# avoid text problem with string IO\n",
    "poll_data = StringIO(source)"
   ]
  },
  {
   "cell_type": "code",
   "execution_count": 5,
   "metadata": {
    "collapsed": false
   },
   "outputs": [
    {
     "name": "stdout",
     "output_type": "stream",
     "text": [
      "<class 'pandas.core.frame.DataFrame'>\n",
      "RangeIndex: 158 entries, 0 to 157\n",
      "Data columns (total 15 columns):\n",
      "Pollster                  158 non-null object\n",
      "Start Date                158 non-null object\n",
      "End Date                  158 non-null object\n",
      "Entry Date/Time (ET)      158 non-null object\n",
      "Number of Observations    158 non-null int64\n",
      "Population                158 non-null object\n",
      "Mode                      158 non-null object\n",
      "Clinton                   158 non-null int64\n",
      "Trump                     158 non-null int64\n",
      "Undecided                 145 non-null float64\n",
      "Other                     84 non-null float64\n",
      "Pollster URL              158 non-null object\n",
      "Source URL                158 non-null object\n",
      "Partisan                  158 non-null object\n",
      "Affiliation               158 non-null object\n",
      "dtypes: float64(2), int64(3), object(10)\n",
      "memory usage: 18.6+ KB\n"
     ]
    }
   ],
   "source": [
    "# place in a pandas DF\n",
    "poll_df = pd.read_csv(poll_data)\n",
    "\n",
    "# get some information on the df\n",
    "poll_df.info()"
   ]
  },
  {
   "cell_type": "code",
   "execution_count": 6,
   "metadata": {
    "collapsed": false
   },
   "outputs": [
    {
     "data": {
      "text/html": [
       "<div>\n",
       "<table border=\"1\" class=\"dataframe\">\n",
       "  <thead>\n",
       "    <tr style=\"text-align: right;\">\n",
       "      <th></th>\n",
       "      <th>Pollster</th>\n",
       "      <th>Start Date</th>\n",
       "      <th>End Date</th>\n",
       "      <th>Entry Date/Time (ET)</th>\n",
       "      <th>Number of Observations</th>\n",
       "      <th>Population</th>\n",
       "      <th>Mode</th>\n",
       "      <th>Clinton</th>\n",
       "      <th>Trump</th>\n",
       "      <th>Undecided</th>\n",
       "      <th>Other</th>\n",
       "      <th>Pollster URL</th>\n",
       "      <th>Source URL</th>\n",
       "      <th>Partisan</th>\n",
       "      <th>Affiliation</th>\n",
       "    </tr>\n",
       "  </thead>\n",
       "  <tbody>\n",
       "    <tr>\n",
       "      <th>0</th>\n",
       "      <td>ABC/Post</td>\n",
       "      <td>2016-05-16</td>\n",
       "      <td>2016-05-19</td>\n",
       "      <td>2016-05-22T15:35:17Z</td>\n",
       "      <td>829</td>\n",
       "      <td>Registered Voters</td>\n",
       "      <td>Live Phone</td>\n",
       "      <td>44</td>\n",
       "      <td>46</td>\n",
       "      <td>1.0</td>\n",
       "      <td>2.0</td>\n",
       "      <td>http://elections.huffingtonpost.com/pollster/p...</td>\n",
       "      <td>https://www.washingtonpost.com/page/2010-2019/...</td>\n",
       "      <td>Nonpartisan</td>\n",
       "      <td>None</td>\n",
       "    </tr>\n",
       "    <tr>\n",
       "      <th>1</th>\n",
       "      <td>Schoen (D)</td>\n",
       "      <td>2016-05-16</td>\n",
       "      <td>2016-05-19</td>\n",
       "      <td>2016-05-22T17:13:42Z</td>\n",
       "      <td>1000</td>\n",
       "      <td>Likely Voters</td>\n",
       "      <td>Live Phone</td>\n",
       "      <td>44</td>\n",
       "      <td>42</td>\n",
       "      <td>14.0</td>\n",
       "      <td>NaN</td>\n",
       "      <td>http://elections.huffingtonpost.com/pollster/p...</td>\n",
       "      <td>http://big.assets.huffingtonpost.com/POTUSSCHO...</td>\n",
       "      <td>Pollster</td>\n",
       "      <td>Dem</td>\n",
       "    </tr>\n",
       "    <tr>\n",
       "      <th>2</th>\n",
       "      <td>NBC/WSJ</td>\n",
       "      <td>2016-05-15</td>\n",
       "      <td>2016-05-19</td>\n",
       "      <td>2016-05-22T15:22:23Z</td>\n",
       "      <td>1000</td>\n",
       "      <td>Registered Voters</td>\n",
       "      <td>Live Phone</td>\n",
       "      <td>46</td>\n",
       "      <td>43</td>\n",
       "      <td>NaN</td>\n",
       "      <td>NaN</td>\n",
       "      <td>http://elections.huffingtonpost.com/pollster/p...</td>\n",
       "      <td>http://www.nbcnews.com/meet-the-press/clinton-...</td>\n",
       "      <td>Pollster</td>\n",
       "      <td>Dem</td>\n",
       "    </tr>\n",
       "    <tr>\n",
       "      <th>3</th>\n",
       "      <td>Rasmussen</td>\n",
       "      <td>2016-05-17</td>\n",
       "      <td>2016-05-18</td>\n",
       "      <td>2016-05-19T15:56:23Z</td>\n",
       "      <td>1000</td>\n",
       "      <td>Likely Voters</td>\n",
       "      <td>Automated Phone</td>\n",
       "      <td>37</td>\n",
       "      <td>42</td>\n",
       "      <td>7.0</td>\n",
       "      <td>13.0</td>\n",
       "      <td>http://elections.huffingtonpost.com/pollster/p...</td>\n",
       "      <td>http://www.rasmussenreports.com/public_content...</td>\n",
       "      <td>Nonpartisan</td>\n",
       "      <td>None</td>\n",
       "    </tr>\n",
       "    <tr>\n",
       "      <th>4</th>\n",
       "      <td>Ipsos/Reuters</td>\n",
       "      <td>2016-05-14</td>\n",
       "      <td>2016-05-18</td>\n",
       "      <td>2016-05-19T18:33:20Z</td>\n",
       "      <td>1397</td>\n",
       "      <td>Registered Voters</td>\n",
       "      <td>Internet</td>\n",
       "      <td>41</td>\n",
       "      <td>36</td>\n",
       "      <td>9.0</td>\n",
       "      <td>14.0</td>\n",
       "      <td>http://elections.huffingtonpost.com/pollster/p...</td>\n",
       "      <td>http://big.assets.huffingtonpost.com/2016Reute...</td>\n",
       "      <td>Nonpartisan</td>\n",
       "      <td>None</td>\n",
       "    </tr>\n",
       "  </tbody>\n",
       "</table>\n",
       "</div>"
      ],
      "text/plain": [
       "        Pollster  Start Date    End Date  Entry Date/Time (ET)  \\\n",
       "0       ABC/Post  2016-05-16  2016-05-19  2016-05-22T15:35:17Z   \n",
       "1     Schoen (D)  2016-05-16  2016-05-19  2016-05-22T17:13:42Z   \n",
       "2        NBC/WSJ  2016-05-15  2016-05-19  2016-05-22T15:22:23Z   \n",
       "3      Rasmussen  2016-05-17  2016-05-18  2016-05-19T15:56:23Z   \n",
       "4  Ipsos/Reuters  2016-05-14  2016-05-18  2016-05-19T18:33:20Z   \n",
       "\n",
       "   Number of Observations         Population             Mode  Clinton  Trump  \\\n",
       "0                     829  Registered Voters       Live Phone       44     46   \n",
       "1                    1000      Likely Voters       Live Phone       44     42   \n",
       "2                    1000  Registered Voters       Live Phone       46     43   \n",
       "3                    1000      Likely Voters  Automated Phone       37     42   \n",
       "4                    1397  Registered Voters         Internet       41     36   \n",
       "\n",
       "   Undecided  Other                                       Pollster URL  \\\n",
       "0        1.0    2.0  http://elections.huffingtonpost.com/pollster/p...   \n",
       "1       14.0    NaN  http://elections.huffingtonpost.com/pollster/p...   \n",
       "2        NaN    NaN  http://elections.huffingtonpost.com/pollster/p...   \n",
       "3        7.0   13.0  http://elections.huffingtonpost.com/pollster/p...   \n",
       "4        9.0   14.0  http://elections.huffingtonpost.com/pollster/p...   \n",
       "\n",
       "                                          Source URL     Partisan Affiliation  \n",
       "0  https://www.washingtonpost.com/page/2010-2019/...  Nonpartisan        None  \n",
       "1  http://big.assets.huffingtonpost.com/POTUSSCHO...     Pollster         Dem  \n",
       "2  http://www.nbcnews.com/meet-the-press/clinton-...     Pollster         Dem  \n",
       "3  http://www.rasmussenreports.com/public_content...  Nonpartisan        None  \n",
       "4  http://big.assets.huffingtonpost.com/2016Reute...  Nonpartisan        None  "
      ]
     },
     "execution_count": 6,
     "metadata": {},
     "output_type": "execute_result"
    }
   ],
   "source": [
    "# look at the top 5 rows\n",
    "poll_df.head()"
   ]
  },
  {
   "cell_type": "code",
   "execution_count": 8,
   "metadata": {
    "collapsed": false
   },
   "outputs": [
    {
     "data": {
      "text/plain": [
       "<seaborn.axisgrid.FacetGrid at 0x7fe639055c10>"
      ]
     },
     "execution_count": 8,
     "metadata": {},
     "output_type": "execute_result"
    },
    {
     "data": {
      "image/png": "[encoded data removed]",
      "text/plain": [
       "<matplotlib.figure.Figure at 0x7fe5f7096e10>"
      ]
     },
     "metadata": {},
     "output_type": "display_data"
    }
   ],
   "source": [
    "# Look if the poll are partizan\n",
    "sns.factorplot('Affiliation', data=poll_df, kind='count')\n",
    "# more democratic affiliations"
   ]
  },
  {
   "cell_type": "code",
   "execution_count": 9,
   "metadata": {
    "collapsed": false
   },
   "outputs": [
    {
     "data": {
      "text/plain": [
       "<seaborn.axisgrid.FacetGrid at 0x7fe5f3f21210>"
      ]
     },
     "execution_count": 9,
     "metadata": {},
     "output_type": "execute_result"
    },
    {
     "data": {
      "image/png": "[encoded data removed]",
      "text/plain": [
       "<matplotlib.figure.Figure at 0x7fe63ee71a10>"
      ]
     },
     "metadata": {},
     "output_type": "display_data"
    }
   ],
   "source": [
    "sns.factorplot('Affiliation', data = poll_df, hue = 'Population', kind = 'count')"
   ]
  },
  {
   "cell_type": "code",
   "execution_count": 10,
   "metadata": {
    "collapsed": false
   },
   "outputs": [
    {
     "data": {
      "text/html": [
       "<div>\n",
       "<table border=\"1\" class=\"dataframe\">\n",
       "  <thead>\n",
       "    <tr style=\"text-align: right;\">\n",
       "      <th></th>\n",
       "      <th>0</th>\n",
       "    </tr>\n",
       "  </thead>\n",
       "  <tbody>\n",
       "    <tr>\n",
       "      <th>Clinton</th>\n",
       "      <td>46.202532</td>\n",
       "    </tr>\n",
       "    <tr>\n",
       "      <th>Trump</th>\n",
       "      <td>40.563291</td>\n",
       "    </tr>\n",
       "    <tr>\n",
       "      <th>Undecided</th>\n",
       "      <td>9.841379</td>\n",
       "    </tr>\n",
       "    <tr>\n",
       "      <th>Other</th>\n",
       "      <td>5.988095</td>\n",
       "    </tr>\n",
       "  </tbody>\n",
       "</table>\n",
       "</div>"
      ],
      "text/plain": [
       "                   0\n",
       "Clinton    46.202532\n",
       "Trump      40.563291\n",
       "Undecided   9.841379\n",
       "Other       5.988095"
      ]
     },
     "execution_count": 10,
     "metadata": {},
     "output_type": "execute_result"
    }
   ],
   "source": [
    "# now we can look at average for Clinton, Trump, Undec, Others and undecided\n",
    "avg = pd.DataFrame(poll_df.mean())\n",
    "\n",
    "# 'Number of Observations' is just how many people they polled, we just need the actualy averages\n",
    "avg.drop('Number of Observations', axis=0, inplace=True)\n",
    "avg"
   ]
  },
  {
   "cell_type": "code",
   "execution_count": 11,
   "metadata": {
    "collapsed": false
   },
   "outputs": [
    {
     "data": {
      "text/html": [
       "<div>\n",
       "<table border=\"1\" class=\"dataframe\">\n",
       "  <thead>\n",
       "    <tr style=\"text-align: right;\">\n",
       "      <th></th>\n",
       "      <th>0</th>\n",
       "    </tr>\n",
       "  </thead>\n",
       "  <tbody>\n",
       "    <tr>\n",
       "      <th>Clinton</th>\n",
       "      <td>3.808739</td>\n",
       "    </tr>\n",
       "    <tr>\n",
       "      <th>Trump</th>\n",
       "      <td>4.226748</td>\n",
       "    </tr>\n",
       "    <tr>\n",
       "      <th>Undecided</th>\n",
       "      <td>5.135221</td>\n",
       "    </tr>\n",
       "    <tr>\n",
       "      <th>Other</th>\n",
       "      <td>5.367223</td>\n",
       "    </tr>\n",
       "  </tbody>\n",
       "</table>\n",
       "</div>"
      ],
      "text/plain": [
       "                  0\n",
       "Clinton    3.808739\n",
       "Trump      4.226748\n",
       "Undecided  5.135221\n",
       "Other      5.367223"
      ]
     },
     "execution_count": 11,
     "metadata": {},
     "output_type": "execute_result"
    }
   ],
   "source": [
    "# lets get the standard deviation\n",
    "std = pd.DataFrame(poll_df.std())\n",
    "\n",
    "std.drop('Number of Observations', axis=0, inplace=True)\n",
    "std\n",
    "# more uncertainty for Trump than Clinton"
   ]
  },
  {
   "cell_type": "code",
   "execution_count": 12,
   "metadata": {
    "collapsed": false
   },
   "outputs": [
    {
     "data": {
      "text/plain": [
       "<matplotlib.axes._subplots.AxesSubplot at 0x7fe5f3da1d50>"
      ]
     },
     "execution_count": 12,
     "metadata": {},
     "output_type": "execute_result"
    },
    {
     "data": {
      "image/png": "[encoded data removed]",
      "text/plain": [
       "<matplotlib.figure.Figure at 0x7fe5f43f2190>"
      ]
     },
     "metadata": {},
     "output_type": "display_data"
    }
   ],
   "source": [
    "avg.plot(yerr= std, kind='bar', legend= False)\n",
    "# we have the height of votes and the black bar is the std"
   ]
  },
  {
   "cell_type": "code",
   "execution_count": 13,
   "metadata": {
    "collapsed": false
   },
   "outputs": [
    {
     "data": {
      "text/html": [
       "<div>\n",
       "<table border=\"1\" class=\"dataframe\">\n",
       "  <thead>\n",
       "    <tr style=\"text-align: right;\">\n",
       "      <th></th>\n",
       "      <th>0</th>\n",
       "      <th>0</th>\n",
       "    </tr>\n",
       "  </thead>\n",
       "  <tbody>\n",
       "    <tr>\n",
       "      <th>Clinton</th>\n",
       "      <td>46.202532</td>\n",
       "      <td>3.808739</td>\n",
       "    </tr>\n",
       "    <tr>\n",
       "      <th>Trump</th>\n",
       "      <td>40.563291</td>\n",
       "      <td>4.226748</td>\n",
       "    </tr>\n",
       "    <tr>\n",
       "      <th>Undecided</th>\n",
       "      <td>9.841379</td>\n",
       "      <td>5.135221</td>\n",
       "    </tr>\n",
       "    <tr>\n",
       "      <th>Other</th>\n",
       "      <td>5.988095</td>\n",
       "      <td>5.367223</td>\n",
       "    </tr>\n",
       "  </tbody>\n",
       "</table>\n",
       "</div>"
      ],
      "text/plain": [
       "                   0         0\n",
       "Clinton    46.202532  3.808739\n",
       "Trump      40.563291  4.226748\n",
       "Undecided   9.841379  5.135221\n",
       "Other       5.988095  5.367223"
      ]
     },
     "execution_count": 13,
     "metadata": {},
     "output_type": "execute_result"
    }
   ],
   "source": [
    "# we can concatenate the two tables we have made\n",
    "poll_avg = pd.concat([avg,std], axis=1)\n",
    "poll_avg"
   ]
  },
  {
   "cell_type": "code",
   "execution_count": 14,
   "metadata": {
    "collapsed": false
   },
   "outputs": [
    {
     "data": {
      "text/html": [
       "<div>\n",
       "<table border=\"1\" class=\"dataframe\">\n",
       "  <thead>\n",
       "    <tr style=\"text-align: right;\">\n",
       "      <th></th>\n",
       "      <th>Average</th>\n",
       "      <th>STD</th>\n",
       "    </tr>\n",
       "  </thead>\n",
       "  <tbody>\n",
       "    <tr>\n",
       "      <th>Clinton</th>\n",
       "      <td>46.202532</td>\n",
       "      <td>3.808739</td>\n",
       "    </tr>\n",
       "    <tr>\n",
       "      <th>Trump</th>\n",
       "      <td>40.563291</td>\n",
       "      <td>4.226748</td>\n",
       "    </tr>\n",
       "    <tr>\n",
       "      <th>Undecided</th>\n",
       "      <td>9.841379</td>\n",
       "      <td>5.135221</td>\n",
       "    </tr>\n",
       "    <tr>\n",
       "      <th>Other</th>\n",
       "      <td>5.988095</td>\n",
       "      <td>5.367223</td>\n",
       "    </tr>\n",
       "  </tbody>\n",
       "</table>\n",
       "</div>"
      ],
      "text/plain": [
       "             Average       STD\n",
       "Clinton    46.202532  3.808739\n",
       "Trump      40.563291  4.226748\n",
       "Undecided   9.841379  5.135221\n",
       "Other       5.988095  5.367223"
      ]
     },
     "execution_count": 14,
     "metadata": {},
     "output_type": "execute_result"
    }
   ],
   "source": [
    "# now lets rename the tables\n",
    "poll_avg.columns = ['Average','STD']\n",
    "poll_avg"
   ]
  },
  {
   "cell_type": "code",
   "execution_count": 16,
   "metadata": {
    "collapsed": false
   },
   "outputs": [
    {
     "data": {
      "text/plain": [
       "<matplotlib.axes._subplots.AxesSubplot at 0x7fe5f3a46dd0>"
      ]
     },
     "execution_count": 16,
     "metadata": {},
     "output_type": "execute_result"
    },
    {
     "data": {
      "image/png": "[encoded data removed]",
      "text/plain": [
       "<matplotlib.figure.Figure at 0x7fe5f3a3ba90>"
      ]
     },
     "metadata": {},
     "output_type": "display_data"
    }
   ],
   "source": [
    "# quick and messy plot for plotting through time\n",
    "poll_df.plot(x='End Date', y=['Clinton','Trump','Undecided','Other'], linestyle='', marker='o')\n",
    "# notice reversed plotline"
   ]
  },
  {
   "cell_type": "code",
   "execution_count": 17,
   "metadata": {
    "collapsed": true
   },
   "outputs": [],
   "source": [
    "# we can edit the df to get more accurate estimate\n",
    "# plot difference between obama and romney\n",
    "from datetime import datetime"
   ]
  },
  {
   "cell_type": "code",
   "execution_count": 19,
   "metadata": {
    "collapsed": false
   },
   "outputs": [],
   "source": [
    "# define new column for difference\n",
    "poll_df['Difference'] = (poll_df.Clinton - poll_df.Trump)/100"
   ]
  },
  {
   "cell_type": "code",
   "execution_count": 21,
   "metadata": {
    "collapsed": false
   },
   "outputs": [
    {
     "data": {
      "text/html": [
       "<div>\n",
       "<table border=\"1\" class=\"dataframe\">\n",
       "  <thead>\n",
       "    <tr style=\"text-align: right;\">\n",
       "      <th></th>\n",
       "      <th>Pollster</th>\n",
       "      <th>Start Date</th>\n",
       "      <th>End Date</th>\n",
       "      <th>Entry Date/Time (ET)</th>\n",
       "      <th>Number of Observations</th>\n",
       "      <th>Population</th>\n",
       "      <th>Mode</th>\n",
       "      <th>Clinton</th>\n",
       "      <th>Trump</th>\n",
       "      <th>Undecided</th>\n",
       "      <th>Other</th>\n",
       "      <th>Pollster URL</th>\n",
       "      <th>Source URL</th>\n",
       "      <th>Partisan</th>\n",
       "      <th>Affiliation</th>\n",
       "      <th>Difference</th>\n",
       "    </tr>\n",
       "  </thead>\n",
       "  <tbody>\n",
       "    <tr>\n",
       "      <th>0</th>\n",
       "      <td>ABC/Post</td>\n",
       "      <td>2016-05-16</td>\n",
       "      <td>2016-05-19</td>\n",
       "      <td>2016-05-22T15:35:17Z</td>\n",
       "      <td>829</td>\n",
       "      <td>Registered Voters</td>\n",
       "      <td>Live Phone</td>\n",
       "      <td>44</td>\n",
       "      <td>46</td>\n",
       "      <td>1.0</td>\n",
       "      <td>2.0</td>\n",
       "      <td>http://elections.huffingtonpost.com/pollster/p...</td>\n",
       "      <td>https://www.washingtonpost.com/page/2010-2019/...</td>\n",
       "      <td>Nonpartisan</td>\n",
       "      <td>None</td>\n",
       "      <td>-0.02</td>\n",
       "    </tr>\n",
       "    <tr>\n",
       "      <th>1</th>\n",
       "      <td>Schoen (D)</td>\n",
       "      <td>2016-05-16</td>\n",
       "      <td>2016-05-19</td>\n",
       "      <td>2016-05-22T17:13:42Z</td>\n",
       "      <td>1000</td>\n",
       "      <td>Likely Voters</td>\n",
       "      <td>Live Phone</td>\n",
       "      <td>44</td>\n",
       "      <td>42</td>\n",
       "      <td>14.0</td>\n",
       "      <td>NaN</td>\n",
       "      <td>http://elections.huffingtonpost.com/pollster/p...</td>\n",
       "      <td>http://big.assets.huffingtonpost.com/POTUSSCHO...</td>\n",
       "      <td>Pollster</td>\n",
       "      <td>Dem</td>\n",
       "      <td>0.02</td>\n",
       "    </tr>\n",
       "    <tr>\n",
       "      <th>2</th>\n",
       "      <td>NBC/WSJ</td>\n",
       "      <td>2016-05-15</td>\n",
       "      <td>2016-05-19</td>\n",
       "      <td>2016-05-22T15:22:23Z</td>\n",
       "      <td>1000</td>\n",
       "      <td>Registered Voters</td>\n",
       "      <td>Live Phone</td>\n",
       "      <td>46</td>\n",
       "      <td>43</td>\n",
       "      <td>NaN</td>\n",
       "      <td>NaN</td>\n",
       "      <td>http://elections.huffingtonpost.com/pollster/p...</td>\n",
       "      <td>http://www.nbcnews.com/meet-the-press/clinton-...</td>\n",
       "      <td>Pollster</td>\n",
       "      <td>Dem</td>\n",
       "      <td>0.03</td>\n",
       "    </tr>\n",
       "    <tr>\n",
       "      <th>3</th>\n",
       "      <td>Rasmussen</td>\n",
       "      <td>2016-05-17</td>\n",
       "      <td>2016-05-18</td>\n",
       "      <td>2016-05-19T15:56:23Z</td>\n",
       "      <td>1000</td>\n",
       "      <td>Likely Voters</td>\n",
       "      <td>Automated Phone</td>\n",
       "      <td>37</td>\n",
       "      <td>42</td>\n",
       "      <td>7.0</td>\n",
       "      <td>13.0</td>\n",
       "      <td>http://elections.huffingtonpost.com/pollster/p...</td>\n",
       "      <td>http://www.rasmussenreports.com/public_content...</td>\n",
       "      <td>Nonpartisan</td>\n",
       "      <td>None</td>\n",
       "      <td>-0.05</td>\n",
       "    </tr>\n",
       "    <tr>\n",
       "      <th>4</th>\n",
       "      <td>Ipsos/Reuters</td>\n",
       "      <td>2016-05-14</td>\n",
       "      <td>2016-05-18</td>\n",
       "      <td>2016-05-19T18:33:20Z</td>\n",
       "      <td>1397</td>\n",
       "      <td>Registered Voters</td>\n",
       "      <td>Internet</td>\n",
       "      <td>41</td>\n",
       "      <td>36</td>\n",
       "      <td>9.0</td>\n",
       "      <td>14.0</td>\n",
       "      <td>http://elections.huffingtonpost.com/pollster/p...</td>\n",
       "      <td>http://big.assets.huffingtonpost.com/2016Reute...</td>\n",
       "      <td>Nonpartisan</td>\n",
       "      <td>None</td>\n",
       "      <td>0.05</td>\n",
       "    </tr>\n",
       "  </tbody>\n",
       "</table>\n",
       "</div>"
      ],
      "text/plain": [
       "        Pollster  Start Date    End Date  Entry Date/Time (ET)  \\\n",
       "0       ABC/Post  2016-05-16  2016-05-19  2016-05-22T15:35:17Z   \n",
       "1     Schoen (D)  2016-05-16  2016-05-19  2016-05-22T17:13:42Z   \n",
       "2        NBC/WSJ  2016-05-15  2016-05-19  2016-05-22T15:22:23Z   \n",
       "3      Rasmussen  2016-05-17  2016-05-18  2016-05-19T15:56:23Z   \n",
       "4  Ipsos/Reuters  2016-05-14  2016-05-18  2016-05-19T18:33:20Z   \n",
       "\n",
       "   Number of Observations         Population             Mode  Clinton  Trump  \\\n",
       "0                     829  Registered Voters       Live Phone       44     46   \n",
       "1                    1000      Likely Voters       Live Phone       44     42   \n",
       "2                    1000  Registered Voters       Live Phone       46     43   \n",
       "3                    1000      Likely Voters  Automated Phone       37     42   \n",
       "4                    1397  Registered Voters         Internet       41     36   \n",
       "\n",
       "   Undecided  Other                                       Pollster URL  \\\n",
       "0        1.0    2.0  http://elections.huffingtonpost.com/pollster/p...   \n",
       "1       14.0    NaN  http://elections.huffingtonpost.com/pollster/p...   \n",
       "2        NaN    NaN  http://elections.huffingtonpost.com/pollster/p...   \n",
       "3        7.0   13.0  http://elections.huffingtonpost.com/pollster/p...   \n",
       "4        9.0   14.0  http://elections.huffingtonpost.com/pollster/p...   \n",
       "\n",
       "                                          Source URL     Partisan Affiliation  \\\n",
       "0  https://www.washingtonpost.com/page/2010-2019/...  Nonpartisan        None   \n",
       "1  http://big.assets.huffingtonpost.com/POTUSSCHO...     Pollster         Dem   \n",
       "2  http://www.nbcnews.com/meet-the-press/clinton-...     Pollster         Dem   \n",
       "3  http://www.rasmussenreports.com/public_content...  Nonpartisan        None   \n",
       "4  http://big.assets.huffingtonpost.com/2016Reute...  Nonpartisan        None   \n",
       "\n",
       "   Difference  \n",
       "0       -0.02  \n",
       "1        0.02  \n",
       "2        0.03  \n",
       "3       -0.05  \n",
       "4        0.05  "
      ]
     },
     "execution_count": 21,
     "metadata": {},
     "output_type": "execute_result"
    }
   ],
   "source": [
    "poll_df.head()"
   ]
  },
  {
   "cell_type": "code",
   "execution_count": 27,
   "metadata": {
    "collapsed": false
   },
   "outputs": [
    {
     "data": {
      "text/html": [
       "<div>\n",
       "<table border=\"1\" class=\"dataframe\">\n",
       "  <thead>\n",
       "    <tr style=\"text-align: right;\">\n",
       "      <th></th>\n",
       "      <th>Start Date</th>\n",
       "      <th>Number of Observations</th>\n",
       "      <th>Clinton</th>\n",
       "      <th>Trump</th>\n",
       "      <th>Undecided</th>\n",
       "      <th>Other</th>\n",
       "      <th>Difference</th>\n",
       "    </tr>\n",
       "  </thead>\n",
       "  <tbody>\n",
       "    <tr>\n",
       "      <th>0</th>\n",
       "      <td>2015-05-19</td>\n",
       "      <td>1711.0</td>\n",
       "      <td>50.0</td>\n",
       "      <td>32.0</td>\n",
       "      <td>14.0</td>\n",
       "      <td>3.0</td>\n",
       "      <td>0.18</td>\n",
       "    </tr>\n",
       "    <tr>\n",
       "      <th>1</th>\n",
       "      <td>2015-06-20</td>\n",
       "      <td>1000.0</td>\n",
       "      <td>46.0</td>\n",
       "      <td>35.0</td>\n",
       "      <td>18.0</td>\n",
       "      <td>NaN</td>\n",
       "      <td>0.11</td>\n",
       "    </tr>\n",
       "    <tr>\n",
       "      <th>2</th>\n",
       "      <td>2015-06-21</td>\n",
       "      <td>1005.0</td>\n",
       "      <td>51.0</td>\n",
       "      <td>34.0</td>\n",
       "      <td>3.0</td>\n",
       "      <td>3.0</td>\n",
       "      <td>0.17</td>\n",
       "    </tr>\n",
       "    <tr>\n",
       "      <th>3</th>\n",
       "      <td>2015-06-26</td>\n",
       "      <td>890.0</td>\n",
       "      <td>59.0</td>\n",
       "      <td>35.0</td>\n",
       "      <td>6.0</td>\n",
       "      <td>0.0</td>\n",
       "      <td>0.24</td>\n",
       "    </tr>\n",
       "    <tr>\n",
       "      <th>4</th>\n",
       "      <td>2015-07-09</td>\n",
       "      <td>1000.0</td>\n",
       "      <td>51.0</td>\n",
       "      <td>34.0</td>\n",
       "      <td>16.0</td>\n",
       "      <td>NaN</td>\n",
       "      <td>0.17</td>\n",
       "    </tr>\n",
       "  </tbody>\n",
       "</table>\n",
       "</div>"
      ],
      "text/plain": [
       "   Start Date  Number of Observations  Clinton  Trump  Undecided  Other  \\\n",
       "0  2015-05-19                  1711.0     50.0   32.0       14.0    3.0   \n",
       "1  2015-06-20                  1000.0     46.0   35.0       18.0    NaN   \n",
       "2  2015-06-21                  1005.0     51.0   34.0        3.0    3.0   \n",
       "3  2015-06-26                   890.0     59.0   35.0        6.0    0.0   \n",
       "4  2015-07-09                  1000.0     51.0   34.0       16.0    NaN   \n",
       "\n",
       "   Difference  \n",
       "0        0.18  \n",
       "1        0.11  \n",
       "2        0.17  \n",
       "3        0.24  \n",
       "4        0.17  "
      ]
     },
     "execution_count": 27,
     "metadata": {},
     "output_type": "execute_result"
    }
   ],
   "source": [
    "# so that start date is maintained\n",
    "# get the mean at those dates\n",
    "poll_df = poll_df.groupby(['Start Date'], as_index=False).mean()\n",
    "poll_df.head()"
   ]
  },
  {
   "cell_type": "code",
   "execution_count": 32,
   "metadata": {
    "collapsed": false
   },
   "outputs": [
    {
     "data": {
      "text/plain": [
       "<matplotlib.axes._subplots.AxesSubplot at 0x7fe5f34be310>"
      ]
     },
     "execution_count": 32,
     "metadata": {},
     "output_type": "execute_result"
    },
    {
     "data": {
      "image/png": "[encoded data removed]",
      "text/plain": [
       "<matplotlib.figure.Figure at 0x7fe5f34d8cd0>"
      ]
     },
     "metadata": {},
     "output_type": "display_data"
    }
   ],
   "source": [
    "poll_df.plot('Start Date', 'Difference', figsize=(12,4), marker='o', linestyle='-', color='purple')"
   ]
  },
  {
   "cell_type": "code",
   "execution_count": null,
   "metadata": {
    "collapsed": false
   },
   "outputs": [],
   "source": []
  },
  {
   "cell_type": "code",
   "execution_count": null,
   "metadata": {
    "collapsed": true
   },
   "outputs": [],
   "source": []
  }
 ],
 "metadata": {
  "kernelspec": {
   "display_name": "Python 2",
   "language": "python",
   "name": "python2"
  },
  "language_info": {
   "codemirror_mode": {
    "name": "ipython",
    "version": 2
   },
   "file_extension": ".py",
   "mimetype": "text/x-python",
   "name": "python",
   "nbconvert_exporter": "python",
   "pygments_lexer": "ipython2",
   "version": "2.7.11"
  }
 },
 "nbformat": 4,
 "nbformat_minor": 0
}
