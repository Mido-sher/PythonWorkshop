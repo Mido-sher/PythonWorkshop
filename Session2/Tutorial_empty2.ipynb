{
 "cells": [
  {
   "cell_type": "markdown",
   "metadata": {},
   "source": [
    "# Tutorial 2\n",
    "\n",
    "### Some additional and vague recommandations about coding\n",
    "\n",
    "Why should you stick with it?"
   ]
  },
  {
   "cell_type": "code",
   "execution_count": null,
   "metadata": {
    "collapsed": false,
    "scrolled": true
   },
   "outputs": [],
   "source": [
    "import antigravity"
   ]
  },
  {
   "cell_type": "markdown",
   "metadata": {},
   "source": [
    "## Recall and Spacing\n",
    "\n",
    "Spacing is important in python, it determines the **scope** of different things as \n",
    "1. functions *def*\n",
    "2. classes *class*\n",
    "3. Flow control (e.g. *if*, *elif*, *else*, *while*, *for*)\n",
    "The unit of spacing is recommanded as *4 spaces* which is different from a *tab*! Most important is to be consistant. \n",
    "\n",
    "If you define a function *def* or a *class* things outside their **scope** (at similar depth or lower) can not access what is inside it. But what is inside can access the outside, but can not change it! Try to only use variables inside the same *def* or *class* here is a few common traps."
   ]
  },
  {
   "cell_type": "code",
   "execution_count": null,
   "metadata": {
    "collapsed": false
   },
   "outputs": [],
   "source": [
    "b = 1\n",
    "def a_function():\n",
    "    print 'b', b\n",
    "    #You can use a variable defined outside the scope \n",
    "    a = 3\n",
    "a_function()\n",
    "print 'a', a"
   ]
  },
  {
   "cell_type": "code",
   "execution_count": null,
   "metadata": {
    "collapsed": false
   },
   "outputs": [],
   "source": [
    "#But if you read it, you can't change it after, \n",
    "#since it is linked to the higher level scope!\n",
    "b = 1\n",
    "def b_function():\n",
    "    print 'b inside', b\n",
    "    b = 4\n",
    "b_function()\n",
    "print 'b after and outside', b"
   ]
  },
  {
   "cell_type": "code",
   "execution_count": null,
   "metadata": {
    "collapsed": false
   },
   "outputs": [],
   "source": [
    "#Unless the special *global* keyword is used.\n",
    "b = 1\n",
    "def b_function():\n",
    "    global b\n",
    "    print 'b inside', b\n",
    "    b = 4\n",
    "b_function()\n",
    "print 'b after and outside', b"
   ]
  },
  {
   "cell_type": "code",
   "execution_count": null,
   "metadata": {
    "collapsed": false
   },
   "outputs": [],
   "source": [
    "#But if you assign it always first, you can \n",
    "#reuse the same variable names\n",
    "b = 4\n",
    "def c_function(c):\n",
    "    b = 42\n",
    "    print \"\\t b inside\", b\n",
    "    print \"\\t c inside\", c \n",
    "print \"b before:\", b\n",
    "c_function(b)\n",
    "print \"b after:\", b"
   ]
  },
  {
   "cell_type": "markdown",
   "metadata": {},
   "source": [
    "## Exercice 1\n",
    "Define a function `percentage_GC_content` which, given a sequence as a string composed of the the characters ('A', 'C', 'G', 'U') returns the percentage of GC characters in the string.\n",
    "\n",
    "e.g.: \n",
    "1. input:  ATGC\n",
    "2. output: 0.5"
   ]
  },
  {
   "cell_type": "code",
   "execution_count": null,
   "metadata": {
    "collapsed": false
   },
   "outputs": [],
   "source": [
    "def percentage_GC_content(....):\n",
    "    ....\n",
    "    ....\n",
    "    ....\n",
    "    ....\n",
    "    return ....\n",
    "    \n",
    "percentage_GC_content('AATTGGCC')"
   ]
  },
  {
   "cell_type": "code",
   "execution_count": 10,
   "metadata": {
    "collapsed": false
   },
   "outputs": [
    {
     "data": {
      "text/html": [
       "<img src=\"http://history.nasa.gov/ap11ann/kippsphotos/5903.jpg\"/>"
      ],
      "text/plain": [
       "<IPython.core.display.Image object>"
      ]
     },
     "metadata": {},
     "output_type": "display_data"
    }
   ],
   "source": [
    "# Load the ipython display and image module\n",
    "from IPython.display import Image\n",
    "from IPython.display import display\n",
    "# display this image\n",
    "display(Image(url='http://history.nasa.gov/ap11ann/kippsphotos/5903.jpg'))"
   ]
  },
  {
   "cell_type": "code",
   "execution_count": null,
   "metadata": {
    "collapsed": false
   },
   "outputs": [],
   "source": [
    "#Declare the function, with one argument as input\n",
    "def percentage_GC_content(sequence):\n",
    "    #Define a variable that will yield the number of G or C observed\n",
    "    tot = 0\n",
    "    #Loop through every nucleotide in the string\n",
    "    for nt in sequence:\n",
    "        #Check if C or G\n",
    "        if nt == 'C' or nt == 'G':\n",
    "            #If yes, add 1 observation to counter\n",
    "            tot += 1\n",
    "    #Divide the total by the number of nucleotides in the sequence\n",
    "    #Do not forget to cast to float!!!\n",
    "    return float(tot)/len(sequence)\n",
    "percentage_GC_content('AATTGGCC')"
   ]
  },
  {
   "cell_type": "markdown",
   "metadata": {},
   "source": [
    "## In general, if you feel lost when programming, think about Tim Peters 19 aphorisms:"
   ]
  },
  {
   "cell_type": "code",
   "execution_count": null,
   "metadata": {
    "collapsed": false
   },
   "outputs": [],
   "source": [
    "import this"
   ]
  },
  {
   "cell_type": "markdown",
   "metadata": {},
   "source": [
    "## Interlude on [*mutable* vs *immutable*](https://docs.python.org/2.7/reference/datamodel.html)\n",
    "\n",
    "An important concept in python is the idea of **mutability** of objects. Any object can be *mutable* or *immutable*. The basic types are:\n",
    "**Immutable**: \n",
    "    1. int, float, str\n",
    "    2. tuples\n",
    "**Mutable**:\n",
    "    1. list\n",
    "    2. dict"
   ]
  },
  {
   "cell_type": "code",
   "execution_count": null,
   "metadata": {
    "collapsed": false
   },
   "outputs": [],
   "source": [
    "#Strings are immutable\n",
    "my_string = 'a string'\n",
    "copy_of_string = my_string\n",
    "copy_of_string.upper()\n",
    "print \"Original string:\", my_string\n",
    "print \"Copied string:\", copy_of_string"
   ]
  },
  {
   "cell_type": "code",
   "execution_count": null,
   "metadata": {
    "collapsed": true
   },
   "outputs": [],
   "source": [
    "#At the opposite lists are mutable\n",
    "my_list = [1, 2, 3]\n",
    "copy_list = my_list\n",
    "my_list.append(4)\n",
    "print \"Original list:\", my_list\n",
    "print \"Copied list:\", copy_list"
   ]
  },
  {
   "cell_type": "code",
   "execution_count": null,
   "metadata": {
    "collapsed": false
   },
   "outputs": [],
   "source": [
    "## Function can also modify lists!\n",
    "def append_4(a_list):\n",
    "    a_list.append(4)\n",
    "    \n",
    "my_list = [1,2,3]\n",
    "print \"List before fct:\", my_list\n",
    "append_4(my_list)\n",
    "print \"List after fct:\", my_list"
   ]
  },
  {
   "cell_type": "markdown",
   "metadata": {},
   "source": [
    "## [List comprehensions](https://docs.python.org/2.7/tutorial/datastructures.html#list-comprehensions)\n",
    "**List comprehensions** are another way of writing *for loops*, they have some optimizations and are often used, so it is good to know them!\n",
    "\n",
    "The syntax to transform a *for loop* into a list comprehension is as follow\n",
    "```\n",
    "my_list = []\n",
    "for something in an_iterable:\n",
    "    if a_condition:\n",
    "        my_list.append(action(something))\n",
    "```\n",
    "is transformed into:\n",
    "`my_list = [action(something) for something in iterable if a_condition]`\n",
    "\n",
    "Now how could we want to transform the slightly modified previous *for loop* in `percentage_GC_content` (below)  in a list comprehension?"
   ]
  },
  {
   "cell_type": "code",
   "execution_count": null,
   "metadata": {
    "collapsed": false
   },
   "outputs": [],
   "source": [
    "def percentage_GC_content(sequence):\n",
    "    #This time we will have a list of 1s instead of summing them\n",
    "    #An empty list\n",
    "    total_1 = []\n",
    "    #Loop through every nucleotide in the string\n",
    "    for nt in sequence:\n",
    "        #Check if C or G\n",
    "        if nt == 'C' or nt == 'G':\n",
    "            #If yes, add 1 to the list total_1\n",
    "            total_1.append(1)\n",
    "    #Builtin function \"sum\" will add all the ones together\n",
    "    #We will see more about those after\n",
    "    tot = sum(total_1)\n",
    "    #Do not forget to cast to float!!!\n",
    "    return float(tot)/len(sequence)\n",
    "def percentage_GC_content_listcomp(sequence):\n",
    "    pass\n",
    "\n",
    "percentage_GC_content('AATTGGCC')"
   ]
  },
  {
   "cell_type": "code",
   "execution_count": null,
   "metadata": {
    "collapsed": true
   },
   "outputs": [],
   "source": []
  },
  {
   "cell_type": "code",
   "execution_count": 2,
   "metadata": {
    "collapsed": false
   },
   "outputs": [
    {
     "data": {
      "text/html": [
       "<img src=\"http://history.nasa.gov/ap11ann/kippsphotos/5903.jpg\"/>"
      ],
      "text/plain": [
       "<IPython.core.display.Image object>"
      ]
     },
     "metadata": {},
     "output_type": "display_data"
    }
   ],
   "source": [
    "# Load the ipython display and image module\n",
    "from IPython.display import Image\n",
    "from IPython.display import display\n",
    "# display this image\n",
    "display(Image(url='http://history.nasa.gov/ap11ann/kippsphotos/5903.jpg'))"
   ]
  },
  {
   "cell_type": "code",
   "execution_count": null,
   "metadata": {
    "collapsed": false
   },
   "outputs": [],
   "source": [
    "def percentage_GC_content_listcomp(sequence):\n",
    "    #This time we will have a list of 1s instead of summing them\n",
    "    #An empty list\n",
    "    total_1 = [1 for nt in sequence if nt == 'C' or nt == 'G']\n",
    "    #Builtin function \"sum\" will add all the ones together\n",
    "    #We will see more about those after\n",
    "    tot = sum(total_1)\n",
    "    #Do not forget to cast to float!!!\n",
    "    return float(tot)/len(sequence)\n",
    "percentage_GC_content('AATTGGCC')"
   ]
  },
  {
   "cell_type": "markdown",
   "metadata": {},
   "source": [
    "# Builtin functions https://docs.python.org/2/library/functions.html#xrange\n",
    "\n",
    "## and how to read the documentation\n",
    "\n",
    "There is a lot of functions already provided to use, they are called builtin function and it is good to not overwrite their variable names.\n",
    "\n",
    "We just saw `sum` which is defined as\n",
    "\n",
    "`sum(iterable[, start])`\n",
    "\n",
    "Between parenthesis we have the arguments, between square brackets the optional arguments which require everything outside of their square brackets. I mean, if you give the `start` argument, which is optional, you **must** also provide the `iterable` argument. \n",
    "\n",
    "An advantage of list comprehensions, is that if we don't wan't to keep the output but process them directly (as before) we can just give it as argument to any function taking an `iterable` (as a *string*, *list*, *tuple*) without the intermediate step. \n",
    "\n",
    "The previous function can be re-written as follows:"
   ]
  },
  {
   "cell_type": "code",
   "execution_count": null,
   "metadata": {
    "collapsed": false
   },
   "outputs": [],
   "source": [
    "def percentage_GC_content(sequence):\n",
    "    #This time we will have a list of 1s instead of summing them\n",
    "    #Builtin function \"sum\" will add all the ones together\n",
    "    #get the sum directly\n",
    "    tot = sum(1 for nt in sequence if nt == 'C' or nt == 'G')\n",
    "    #Do not forget to cast to float!!!\n",
    "    return float(tot)/len(sequence)\n",
    "percentage_GC_content('AATTGGCC')"
   ]
  },
  {
   "cell_type": "markdown",
   "metadata": {},
   "source": [
    "## with / open (reading and writing files)\n",
    "\n",
    "Being able to read and write file is of course essential. Python offer a few different syntaxes for that, but the main to remember is as follows and works in two steps.\n",
    "1. Use a *Context Manager* with the keyword **with** to access the file (read / write)\n",
    "2. Read it line by line OR write\n",
    "\n",
    "The usual syntax to read a file `bob.txt` is as follows:\n",
    "```\n",
    "with open('bob.txt') as f: #Create context manager to make sure all dandy\n",
    "    for line in f: #Go through every line, usual newline separator\n",
    "        do_something(line) #do something with the line\n",
    "```\n",
    "\n",
    "This ensures that the file is open / closed properly and no IO (Input/Output) conflict happens, all magically behind the hood!\n",
    "\n",
    "Now we will make a function to read a file containing RNA sequences. You might be familiar with the [fasta](https://en.wikipedia.org/wiki/FASTA_format), a parser will be given as exercice at the end. We will first do something simpler. \n",
    "\n",
    "Each line of the file `RF00001.txt` is of the format:\n",
    "    `name sequence`\n",
    "create a function `read_RNA_file` that take as input a file name, and returns a dictionary with key `name` and value `sequence`.\n",
    "\n",
    "You might want to use the function string attribute [`split()`](https://docs.python.org/2/library/stdtypes.html#str.split)"
   ]
  },
  {
   "cell_type": "code",
   "execution_count": null,
   "metadata": {
    "collapsed": false
   },
   "outputs": [],
   "source": [
    "def read_RNA_file(file_path):\n",
    "    ....\n",
    "    ....\n",
    "    ....\n",
    "    ....\n",
    "    ....\n",
    "    ....\n",
    "    return ....\n",
    "dic_rna_sequences = read_RNA_file('RF00001.txt')"
   ]
  },
  {
   "cell_type": "code",
   "execution_count": 3,
   "metadata": {
    "collapsed": false
   },
   "outputs": [
    {
     "data": {
      "text/html": [
       "<img src=\"http://history.nasa.gov/ap11ann/kippsphotos/5903.jpg\"/>"
      ],
      "text/plain": [
       "<IPython.core.display.Image object>"
      ]
     },
     "metadata": {},
     "output_type": "display_data"
    }
   ],
   "source": [
    "# Load the ipython display and image module\n",
    "from IPython.display import Image\n",
    "from IPython.display import display\n",
    "# display this image\n",
    "display(Image(url='http://history.nasa.gov/ap11ann/kippsphotos/5903.jpg'))"
   ]
  },
  {
   "cell_type": "code",
   "execution_count": null,
   "metadata": {
    "collapsed": true
   },
   "outputs": [],
   "source": [
    "def read_RNA_file(file_path):\n",
    "    dic_rnas = {}\n",
    "    with open(file_path) as f:\n",
    "        for line in f:\n",
    "            split_line = line.split()\n",
    "            dic_rnas[split_line[0]] = split_line[1]\n",
    "    return dic_rnas\n",
    "dic_rna_sequences = read_RNA_file('RF00001.txt')"
   ]
  },
  {
   "cell_type": "markdown",
   "metadata": {},
   "source": [
    "# The standard library\n",
    "\n",
    "The *standard library* is an ensemble of *modules* provided by default with python [https://docs.python.org/2/library/](https://docs.python.org/2/library/). We will see two short examples here and how to use them. This is just a taste of all the possibilities.\n",
    "\n",
    "The first step is always to `import` the module of interest."
   ]
  },
  {
   "cell_type": "markdown",
   "metadata": {},
   "source": [
    "## collections [https://docs.python.org/2/library/collections.html](https://docs.python.org/2/library/collections.html)\n",
    "\n",
    "We have seen *dict*, *list* and *tuple* as main *containers* for data. There is a few more that can be useful. An interesting one is the `Counter` which automatically counts the occurences of everything in an iterable. Let's revisit the previous example `percentage_GC_content` with a `Counter`!"
   ]
  },
  {
   "cell_type": "code",
   "execution_count": null,
   "metadata": {
    "collapsed": false
   },
   "outputs": [],
   "source": [
    "#First we need to import the module!\n",
    "import collections\n",
    "\n",
    "\n",
    "def percentage_GC_content(sequence):\n",
    "    #Let's just count the nucleotides in one shot!\n",
    "    nts_counter = collections.Counter(sequence)\n",
    "    #How many G and C\n",
    "    tot = nts_counter['G'] + nts_counter['C']\n",
    "    #Return divided by the number of elements\n",
    "    return float(tot)/len(sequence)\n",
    "\n",
    "percentage_GC_content('AATTGGCC')"
   ]
  },
  {
   "cell_type": "markdown",
   "metadata": {},
   "source": [
    "## fnmatch [https://docs.python.org/2/library/fnmatch.html](https://docs.python.org/2/library/fnmatch.html)\n",
    "\n",
    "The ability to efficiently search sequences containing pattern is usually done with the regex `re` module [https://docs.python.org/2/library/re.html](https://docs.python.org/2/library/re.html). Regex are... non trivial, and a simpler version is offered by the `fnmatch` module [https://docs.python.org/2/library/fnmatch.html](https://docs.python.org/2/library/fnmatch.html)\n",
    "\n",
    "The patterns are simple to describe with four options:\n",
    "```\n",
    "*    \tmatches everything\n",
    "?   \tmatches any single character\n",
    "[seq]\tmatches any character in seq\n",
    "[!seq]\tmatches any character not in seq\n",
    "```\n",
    "\n",
    "A small example:"
   ]
  },
  {
   "cell_type": "code",
   "execution_count": null,
   "metadata": {
    "collapsed": false
   },
   "outputs": [],
   "source": [
    "#First import the module!\n",
    "import fnmatch\n",
    "\n",
    "#Select a pattern\n",
    "pattern = '*AAAAA' #must finish by 5 As\n",
    "\n",
    "#A few test sequences\n",
    "l_seqs = ['AGCUAGCAGUAGCAUGA', 'AGCUAGUCAGAAAAAA', 'AGUCGAUCGAUGCAUGCA']\n",
    "\n",
    "#How to use it:\n",
    "for seq in l_seqs:\n",
    "    if fnmatch.fnmatch(seq, pattern):\n",
    "        print \"Sequence %s matches the pattern %s\" % (seq, pattern)"
   ]
  },
  {
   "cell_type": "markdown",
   "metadata": {},
   "source": [
    "An exercice on it is provided at the end."
   ]
  },
  {
   "cell_type": "markdown",
   "metadata": {},
   "source": [
    "# Object Oriented Programming / Class\n",
    "\n",
    "Object Oriented Programming is a way of programming to give a similar interface to similar objects with different data. In general, every *thing* in python is an object. Take for example a string `str`, all the strings are different, but they all have the function *split, upper, etc...*. In general two things are associated with objects of class:\n",
    "    1. **Methods** The functions associated with their specific object is called a **method** and they are called using the *dot* `.` operator. **EVERY METHOD HAS AS FIRST ATTRIBUTE SELF** \n",
    "    2. **Attributes** They are specific values (anything in fact)\n",
    "\n",
    "To define an ensemble of objects with the same properties, we create a `class`. They have one specific method `__init__` that explains how a new object is created. The following example tries to illustrate that. There is a special attribute / variable **self** which represents an *instance* of the object. It refers to itselfs depending of how it is initialized. This attribute is hidden from outside the *definition*.\n",
    "\n",
    "\n",
    "We will create a class `RNA_Family` that is initiated with a path to a text file in the previously seen format. \n",
    "It will have **one attribute** `dict_rnas` which will contain a dictionary will all the sequences in the family. \n",
    "It will have **one method** (on top of *__init__* which is mandatory) to read the file and *populate* the attribute `dict_rnas`."
   ]
  },
  {
   "cell_type": "code",
   "execution_count": null,
   "metadata": {
    "collapsed": true
   },
   "outputs": [],
   "source": [
    "class RNA_Family():\n",
    "    \n",
    "    def __init__(self, file_path):\n",
    "        self.file_path = file_path\n",
    "        self.dict_rnas = read_RNA_file()\n",
    "    \n",
    "    def read_RNA_file(self,):\n",
    "        dic_rnas = {}\n",
    "        with open(self.file_path) as f:\n",
    "            for line in f:\n",
    "                split_line = line.split()\n",
    "                dic_rnas[split_line[0]] = split_line[1]\n",
    "        return dic_rnas\n"
   ]
  },
  {
   "cell_type": "code",
   "execution_count": 4,
   "metadata": {
    "collapsed": false
   },
   "outputs": [
    {
     "data": {
      "text/html": [
       "<img src=\"http://history.nasa.gov/ap11ann/kippsphotos/5903.jpg\"/>"
      ],
      "text/plain": [
       "<IPython.core.display.Image object>"
      ]
     },
     "metadata": {},
     "output_type": "display_data"
    }
   ],
   "source": [
    "# Load the ipython display and image module\n",
    "from IPython.display import Image\n",
    "from IPython.display import display\n",
    "# display this image\n",
    "display(Image(url='http://history.nasa.gov/ap11ann/kippsphotos/5903.jpg'))"
   ]
  },
  {
   "cell_type": "code",
   "execution_count": null,
   "metadata": {
    "collapsed": true
   },
   "outputs": [],
   "source": [
    "#The name of the class\n",
    "class RNA_Family():\n",
    "    \n",
    "    #__init__ is mandatory to define a new object from the class\n",
    "    #always self as first argument, will depend of the file path\n",
    "    def __init__(self, file_path):\n",
    "        #This specific object will be associated with the file file_path\n",
    "        self.file_path = file_path\n",
    "        #We create the dictionary from the file, \n",
    "        #read_RNA_file doesn't need arguments since there is only `self`\n",
    "        #which is hidden from outside. It uses the fact that it is a\n",
    "        #method of an object to retrieve its self (own) file_path\n",
    "        #NOTICE the self.read_RNA_file, we don't want any function read_RNA_file, but\n",
    "        #the one associated with that specific instance\n",
    "        self.dict_rnas = self.read_RNA_file()\n",
    "    \n",
    "    \n",
    "    #read_RNA_file will just read the path for this specific object\n",
    "    #Since the path file is in the attribute self.file_path, there is no need\n",
    "    #to give it as an argument!!\n",
    "    def read_RNA_file(self,):\n",
    "        dic_rnas = {}\n",
    "        with open(self.file_path) as f:\n",
    "            for line in f:\n",
    "                split_line = line.split()\n",
    "                dic_rnas[split_line[0]] = split_line[1]\n",
    "        return dic_rnas\n"
   ]
  },
  {
   "cell_type": "code",
   "execution_count": null,
   "metadata": {
    "collapsed": false
   },
   "outputs": [],
   "source": [
    "###Now how to use this??\n",
    "my_family = RNA_Family('RF00001.txt')\n",
    "print len(my_family.dict_rnas)"
   ]
  },
  {
   "cell_type": "markdown",
   "metadata": {},
   "source": [
    "Now, expand the previous class by adding a method `all_GC_content(self,)` that returns a list with the GC content of all sequences in that family object."
   ]
  },
  {
   "cell_type": "code",
   "execution_count": null,
   "metadata": {
    "collapsed": true
   },
   "outputs": [],
   "source": [
    "#The name of the class\n",
    "class RNA_Family():\n",
    "    \n",
    "    #__init__ is mandatory to define a new object from the class\n",
    "    #always self as first argument, will depend of the file path\n",
    "    def __init__(self, file_path):\n",
    "        #This specific object will be associated with the file file_path\n",
    "        self.file_path = file_path\n",
    "        #We create the dictionary from the file, \n",
    "        #read_RNA_file doesn't need arguments since there is only `self`\n",
    "        #which is hidden from outside. It uses the fact that it is a\n",
    "        #method of an object to retrieve its self (own) file_path\n",
    "        #NOTICE the self.read_RNA_file, we don't want any function read_RNA_file, but\n",
    "        #the one associated with that specific instance\n",
    "        self.dict_rnas = self.read_RNA_file()\n",
    "    \n",
    "    \n",
    "    #read_RNA_file will just read the path for this specific object\n",
    "    #Since the path file is in the attribute self.file_path, there is no need\n",
    "    #to give it as an argument!!\n",
    "    def read_RNA_file(self,):\n",
    "        dic_rnas = {}\n",
    "        with open(self.file_path) as f:\n",
    "            for line in f:\n",
    "                split_line = line.split()\n",
    "                dic_rnas[split_line[0]] = split_line[1]\n",
    "        return dic_rnas\n",
    "\n",
    "    \n",
    "    \n",
    "    def all_GC_content(self,):\n",
    "        #We want to loop through every sequence in self.dict_rnas and compute their GC content\n",
    "        #remember you can access all the values of a dictionary with the method .values()\n",
    "        list_GC_contents = ...\n",
    "        for sequence in ...\n",
    "            #get the sum directly\n",
    "            tot = ...\n",
    "            #Do not forget to cast to float!!! and append to list_GC_contents\n",
    "            list_GC_contents.append(...)\n",
    "        return list_GC_contents\n"
   ]
  },
  {
   "cell_type": "code",
   "execution_count": null,
   "metadata": {
    "collapsed": false
   },
   "outputs": [],
   "source": [
    "my_family = RNA_Family('RF00001.txt')\n",
    "print my_family.all_GC_content() ###Notice the () at the end, because all_GC_content \n",
    "                                 #is a method, not an attribute!!!"
   ]
  },
  {
   "cell_type": "code",
   "execution_count": 5,
   "metadata": {
    "collapsed": false
   },
   "outputs": [
    {
     "data": {
      "text/html": [
       "<img src=\"http://history.nasa.gov/ap11ann/kippsphotos/5903.jpg\"/>"
      ],
      "text/plain": [
       "<IPython.core.display.Image object>"
      ]
     },
     "metadata": {},
     "output_type": "display_data"
    }
   ],
   "source": [
    "# Load the ipython display and image module\n",
    "from IPython.display import Image\n",
    "from IPython.display import display\n",
    "# display this image\n",
    "display(Image(url='http://history.nasa.gov/ap11ann/kippsphotos/5903.jpg'))"
   ]
  },
  {
   "cell_type": "code",
   "execution_count": null,
   "metadata": {
    "collapsed": true
   },
   "outputs": [],
   "source": [
    "#The name of the class\n",
    "class RNA_Family():\n",
    "    \n",
    "    #__init__ is mandatory to define a new object from the class\n",
    "    #always self as first argument, will depend of the file path\n",
    "    def __init__(self, file_path):\n",
    "        #This specific object will be associated with the file file_path\n",
    "        self.file_path = file_path\n",
    "        #We create the dictionary from the file, \n",
    "        #read_RNA_file doesn't need arguments since there is only `self`\n",
    "        #which is hidden from outside. It uses the fact that it is a\n",
    "        #method of an object to retrieve its self (own) file_path\n",
    "        #NOTICE the self.read_RNA_file, we don't want any function read_RNA_file, but\n",
    "        #the one associated with that specific instance\n",
    "        self.dict_rnas = self.read_RNA_file()\n",
    "    \n",
    "    \n",
    "    #read_RNA_file will just read the path for this specific object\n",
    "    #Since the path file is in the attribute self.file_path, there is no need\n",
    "    #to give it as an argument!!\n",
    "    def read_RNA_file(self,):\n",
    "        dic_rnas = {}\n",
    "        with open(self.file_path) as f:\n",
    "            for line in f:\n",
    "                split_line = line.split()\n",
    "                dic_rnas[split_line[0]] = split_line[1]\n",
    "        return dic_rnas\n",
    "\n",
    "    \n",
    "    \n",
    "    def all_GC_content(self,):\n",
    "        #We want to loop through every sequence in self.dict_rnas and compute their GC content\n",
    "        #remember you can access all the values of a dictionary with the method .values()\n",
    "        list_GC_contents = []\n",
    "        for sequence in self.dict_rnas.values():\n",
    "            #get the sum directly\n",
    "            tot = sum(1 for nt in sequence if nt == 'C' or nt == 'G')\n",
    "            #Do not forget to cast to float!!! and append to list_GC_contents\n",
    "            list_GC_contents.append(float(tot)/len(sequence))\n",
    "        return list_GC_contents\n"
   ]
  },
  {
   "cell_type": "markdown",
   "metadata": {},
   "source": [
    "# Seaborn\n",
    "\n",
    "That was all fun, but how do we visualize in python? To do so the main package is called [matplotlib](http://matplotlib.org/). Yet the syntax is weird and in the past year a module called [Seaborn](https://web.stanford.edu/~mwaskom/software/seaborn/) has been slowly taking over simplifying a lot of things. We will see one small example and apply it to our family.\n",
    "\n",
    "We will see how to make a simple a distplot! The first calls are here to work inside the ipython notebook.\n",
    "```\n",
    "from IPython.display import Image\n",
    "from IPython.display import display\n",
    "%matplotlib inline\n",
    "```\n",
    "\n",
    "Finally the `seaborn` module is often shortened into `sns`."
   ]
  },
  {
   "cell_type": "code",
   "execution_count": null,
   "metadata": {
    "collapsed": false
   },
   "outputs": [],
   "source": [
    "# Load the ipython display and image module\n",
    "from IPython.display import Image\n",
    "from IPython.display import display\n",
    "%matplotlib inline\n",
    "import seaborn as sns\n",
    "\n",
    "#We keep the output to later give the labels in the variable g\n",
    "g = sns.distplot([-5, -2, 1,2,3, 1, 1, 1, 2, 3], label='first thing')\n",
    "g = sns.distplot([1, 21, 2, 2, 5, 2, 4, 4,], label='second thing')\n",
    "g.set(xlabel='Some number', ylabel='quantity', title='some title')#To label the axis and title!\n",
    "g.legend()#To show the labels on the graph!"
   ]
  },
  {
   "cell_type": "markdown",
   "metadata": {},
   "source": [
    "The line is an automatic \"kernel density estimator\", which is fancy but I dislike. There is a lot of potential arguments to `distplot`, using `kde=False` will remove those, as the normalization of values!"
   ]
  },
  {
   "cell_type": "code",
   "execution_count": null,
   "metadata": {
    "collapsed": false
   },
   "outputs": [],
   "source": [
    "#We keep the output to later give the labels in the variable g\n",
    "g = sns.distplot([-5, -2, 1,2,3, 1, 1, 1, 2, 3], label='first thing', kde=False)\n",
    "g = sns.distplot([1, 21, 2, 2, 5, 2, 4, 4,], label='second thing', kde=False)\n",
    "g.set(xlabel='Some number', ylabel='quantity')#To label the axis!\n",
    "g.legend()#To show the labels on the graph!"
   ]
  },
  {
   "cell_type": "markdown",
   "metadata": {},
   "source": [
    "We will integrate this in our class `RNA_Family`! Create a method `distribution_GC_content` that automatically displays the distribution of GC contents through all sequences in the family."
   ]
  },
  {
   "cell_type": "code",
   "execution_count": null,
   "metadata": {
    "collapsed": true
   },
   "outputs": [],
   "source": [
    "#The name of the class\n",
    "class RNA_Family():\n",
    "    \n",
    "    #__init__ is mandatory to define a new object from the class\n",
    "    #always self as first argument, will depend of the file path\n",
    "    def __init__(self, file_path):\n",
    "        #This specific object will be associated with the file file_path\n",
    "        self.file_path = file_path\n",
    "        #We create the dictionary from the file, \n",
    "        #read_RNA_file doesn't need arguments since there is only `self`\n",
    "        #which is hidden from outside. It uses the fact that it is a\n",
    "        #method of an object to retrieve its self (own) file_path\n",
    "        #NOTICE the self.read_RNA_file, we don't want any function read_RNA_file, but\n",
    "        #the one associated with that specific instance\n",
    "        self.dict_rnas = self.read_RNA_file()\n",
    "    \n",
    "    \n",
    "    #read_RNA_file will just read the path for this specific object\n",
    "    #Since the path file is in the attribute self.file_path, there is no need\n",
    "    #to give it as an argument!!\n",
    "    def read_RNA_file(self,):\n",
    "        dic_rnas = {}\n",
    "        with open(self.file_path) as f:\n",
    "            for line in f:\n",
    "                split_line = line.split()\n",
    "                dic_rnas[split_line[0]] = split_line[1]\n",
    "        return dic_rnas\n",
    "\n",
    "    \n",
    "    \n",
    "    def all_GC_content(self,):\n",
    "        #We want to loop through every sequence in self.dict_rnas and compute their GC content\n",
    "        #remember you can access all the values of a dictionary with the method .values()\n",
    "        list_GC_contents = []\n",
    "        for sequence in self.dict_rnas.values():\n",
    "            #get the sum directly\n",
    "            tot = sum(1 for nt in sequence if nt == 'C' or nt == 'G')\n",
    "            #Do not forget to cast to float!!! and append to list_GC_contents\n",
    "            list_GC_contents.append(float(tot)/len(sequence))\n",
    "        return list_GC_contents\n",
    "\n",
    "    def distribution_GC_content(self,):\n",
    "        g = sns.distplot(self.all_GC_content(), kde=False)\n",
    "        g.set(xlabel='GC percentage', ylabel='Quantity of sequences')"
   ]
  },
  {
   "cell_type": "code",
   "execution_count": null,
   "metadata": {
    "collapsed": false
   },
   "outputs": [],
   "source": [
    "my_family = RNA_Family('RF00001.txt')\n",
    "my_family.distribution_GC_content()"
   ]
  },
  {
   "cell_type": "markdown",
   "metadata": {},
   "source": [
    "# Numpy and Scipy\n",
    "\n",
    "The libraries [numpy](http://www.numpy.org/) and [scipy](https://www.scipy.org/) are not part of the standard library, but some of the most used ones! They deal with numbers efficiently! *Scipy* contains a lot of statistical distributions to sample from or compare too. \n",
    "\n",
    "Here we will scrap the surface of *numpy* abilities. We will start by creating a function, `count_nucleotides(l_sequence)` that returns a list of lists with the numbers of 'A', 'C', 'G' and 'U' in each sequence (in that order)."
   ]
  },
  {
   "cell_type": "code",
   "execution_count": null,
   "metadata": {
    "collapsed": true
   },
   "outputs": [],
   "source": [
    "#Input \"['AAA', 'ACUG', 'CCC']\n",
    "#Output [[3,0,0,0], [1,1,1,1], [0,3,0,0]]\n",
    "\n",
    "def count_nucleotides(list_sequence):\n",
    "    pass"
   ]
  },
  {
   "cell_type": "code",
   "execution_count": 6,
   "metadata": {
    "collapsed": false
   },
   "outputs": [
    {
     "data": {
      "text/html": [
       "<img src=\"http://history.nasa.gov/ap11ann/kippsphotos/5903.jpg\"/>"
      ],
      "text/plain": [
       "<IPython.core.display.Image object>"
      ]
     },
     "metadata": {},
     "output_type": "display_data"
    }
   ],
   "source": [
    "# Load the ipython display and image module\n",
    "from IPython.display import Image\n",
    "from IPython.display import display\n",
    "# display this image\n",
    "display(Image(url='http://history.nasa.gov/ap11ann/kippsphotos/5903.jpg'))"
   ]
  },
  {
   "cell_type": "code",
   "execution_count": null,
   "metadata": {
    "collapsed": true
   },
   "outputs": [],
   "source": [
    "#Let's do it with the collection Counter!\n",
    "import collections\n",
    "\n",
    "\n",
    "def count_nucleotides(list_sequences):\n",
    "    list_proportions = [] #What will hold the final result\n",
    "    for sequence in list_sequences:\n",
    "        #Let's just count the nucleotides in one shot!\n",
    "        nts_counter = collections.Counter(sequence)\n",
    "        #How many A, C, G and U\n",
    "        list_proportions.append((nts_counter['A'], nts_counter['C'], nts_counter['G'], nts_counter['U']))\n",
    "    return list_proportions\n",
    "count_nucleotides(['AAA', 'ACUG', 'CCC'])"
   ]
  },
  {
   "cell_type": "markdown",
   "metadata": {},
   "source": [
    "Now to use *numpy*! We will see one special element, *numpy.array*. It allows to efficiently extract columns, compute averages, standard deviations, etc...\n",
    "To create a numpy array from any list, after importing *numpy* you must apply the function numpy.array() to your list. "
   ]
  },
  {
   "cell_type": "code",
   "execution_count": null,
   "metadata": {
    "collapsed": false
   },
   "outputs": [],
   "source": [
    "import numpy as np\n",
    "proportions = np.array(count_nucleotides(['AAA', 'ACUG', 'CCC']))"
   ]
  },
  {
   "cell_type": "code",
   "execution_count": null,
   "metadata": {
    "collapsed": false
   },
   "outputs": [],
   "source": [
    "#The columns are always in the same order, so by selecting the first column \n",
    "#we have the number of As through all sequences. If it is in a numpy_array *proportion*, \n",
    "#the variation of splicing provided by numpy array is as follows:\n",
    "#proportion[a:b, c:d] where `a` is the first row, `b` last row, `c` first column and `d` \n",
    "#column to consider. Only a colon : signifies all. \n",
    "#The first column is retrieved:\n",
    "proportions[:,0]"
   ]
  },
  {
   "cell_type": "code",
   "execution_count": null,
   "metadata": {
    "collapsed": false
   },
   "outputs": [],
   "source": [
    "#We can compute the sum and standard deviation (std) easily with methods of the numpy array!\n",
    "As = proportions[:,0]\n",
    "print \"Average number of As per sequence:\", As.mean()\n",
    "print \"Standard deviation of As per sequence:\", As.std()"
   ]
  },
  {
   "cell_type": "code",
   "execution_count": null,
   "metadata": {
    "collapsed": false
   },
   "outputs": [],
   "source": [
    "#We can compute all means and stds by providing to the original *proportion* numpy\n",
    "#array the argument \"axis\" which tells in which direction to compute those values (row /col)\n",
    "#axis=0 is on columns, axis=1 on rows\n",
    "print \"Average number of A, C, G and U in each sequences: \", proportions.mean(axis=0)\n",
    "print \"Average number of each nucleotide per sequence\", proportions.mean(axis=1)"
   ]
  },
  {
   "cell_type": "markdown",
   "metadata": {},
   "source": [
    "## Exercice \n",
    "Add a method `average_nucleotides_content` in the class `RNA_Family` that returns 4 values, the average number of As, Cs, Gs and Us (in that order)"
   ]
  },
  {
   "cell_type": "code",
   "execution_count": null,
   "metadata": {
    "collapsed": true
   },
   "outputs": [],
   "source": [
    "#The name of the class\n",
    "class RNA_Family():\n",
    "    \n",
    "    #__init__ is mandatory to define a new object from the class\n",
    "    #always self as first argument, will depend of the file path\n",
    "    def __init__(self, file_path):\n",
    "        #This specific object will be associated with the file file_path\n",
    "        self.file_path = file_path\n",
    "        #We create the dictionary from the file, \n",
    "        #read_RNA_file doesn't need arguments since there is only `self`\n",
    "        #which is hidden from outside. It uses the fact that it is a\n",
    "        #method of an object to retrieve its self (own) file_path\n",
    "        #NOTICE the self.read_RNA_file, we don't want any function read_RNA_file, but\n",
    "        #the one associated with that specific instance\n",
    "        self.dict_rnas = self.read_RNA_file()\n",
    "    \n",
    "    \n",
    "    #read_RNA_file will just read the path for this specific object\n",
    "    #Since the path file is in the attribute self.file_path, there is no need\n",
    "    #to give it as an argument!!\n",
    "    def read_RNA_file(self,):\n",
    "        dic_rnas = {}\n",
    "        with open(self.file_path) as f:\n",
    "            for line in f:\n",
    "                split_line = line.split()\n",
    "                dic_rnas[split_line[0]] = split_line[1]\n",
    "        return dic_rnas\n",
    "\n",
    "    \n",
    "    \n",
    "    def all_GC_content(self,):\n",
    "        #We want to loop through every sequence in self.dict_rnas and compute their GC content\n",
    "        #remember you can access all the values of a dictionary with the method .values()\n",
    "        list_GC_contents = []\n",
    "        for sequence in self.dict_rnas.values():\n",
    "            #get the sum directly\n",
    "            tot = sum(1 for nt in sequence if nt == 'C' or nt == 'G')\n",
    "            #Do not forget to cast to float!!! and append to list_GC_contents\n",
    "            list_GC_contents.append(float(tot)/len(sequence))\n",
    "        return list_GC_contents\n",
    "\n",
    "    def distribution_GC_content(self,):\n",
    "        g = sns.distplot(self.all_GC_content(), kde=False)\n",
    "        g.set(xlabel='GC percentage', ylabel='Quantity of sequences')\n",
    "        \n",
    "    \n",
    "    def average_nucleotides_content(self,):\n",
    "        ### Should return 4 numbers:\n",
    "        #Average number of A, G, C, U per sequence in self.dict_rnas.values()\n",
    "        pass"
   ]
  },
  {
   "cell_type": "code",
   "execution_count": null,
   "metadata": {
    "collapsed": true
   },
   "outputs": [],
   "source": [
    "my_family = RNA_Family('RF00001.txt')\n",
    "my_family.average_nucleotides_content()"
   ]
  },
  {
   "cell_type": "code",
   "execution_count": 7,
   "metadata": {
    "collapsed": false
   },
   "outputs": [
    {
     "data": {
      "text/html": [
       "<img src=\"http://history.nasa.gov/ap11ann/kippsphotos/5903.jpg\"/>"
      ],
      "text/plain": [
       "<IPython.core.display.Image object>"
      ]
     },
     "metadata": {},
     "output_type": "display_data"
    }
   ],
   "source": [
    "# Load the ipython display and image module\n",
    "from IPython.display import Image\n",
    "from IPython.display import display\n",
    "# display this image\n",
    "display(Image(url='http://history.nasa.gov/ap11ann/kippsphotos/5903.jpg'))"
   ]
  },
  {
   "cell_type": "code",
   "execution_count": null,
   "metadata": {
    "collapsed": true
   },
   "outputs": [],
   "source": [
    "#The name of the class\n",
    "class RNA_Family():\n",
    "    \n",
    "    #__init__ is mandatory to define a new object from the class\n",
    "    #always self as first argument, will depend of the file path\n",
    "    def __init__(self, file_path):\n",
    "        #This specific object will be associated with the file file_path\n",
    "        self.file_path = file_path\n",
    "        #We create the dictionary from the file, \n",
    "        #read_RNA_file doesn't need arguments since there is only `self`\n",
    "        #which is hidden from outside. It uses the fact that it is a\n",
    "        #method of an object to retrieve its self (own) file_path\n",
    "        #NOTICE the self.read_RNA_file, we don't want any function read_RNA_file, but\n",
    "        #the one associated with that specific instance\n",
    "        self.dict_rnas = self.read_RNA_file()\n",
    "    \n",
    "    \n",
    "    #read_RNA_file will just read the path for this specific object\n",
    "    #Since the path file is in the attribute self.file_path, there is no need\n",
    "    #to give it as an argument!!\n",
    "    def read_RNA_file(self,):\n",
    "        dic_rnas = {}\n",
    "        with open(self.file_path) as f:\n",
    "            for line in f:\n",
    "                split_line = line.split()\n",
    "                dic_rnas[split_line[0]] = split_line[1]\n",
    "        return dic_rnas\n",
    "\n",
    "    \n",
    "    \n",
    "    def all_GC_content(self,):\n",
    "        #We want to loop through every sequence in self.dict_rnas and compute their GC content\n",
    "        #remember you can access all the values of a dictionary with the method .values()\n",
    "        list_GC_contents = []\n",
    "        for sequence in self.dict_rnas.values():\n",
    "            #get the sum directly\n",
    "            tot = sum(1 for nt in sequence if nt == 'C' or nt == 'G')\n",
    "            #Do not forget to cast to float!!! and append to list_GC_contents\n",
    "            list_GC_contents.append(float(tot)/len(sequence))\n",
    "        return list_GC_contents\n",
    "\n",
    "    def distribution_GC_content(self,):\n",
    "        g = sns.distplot(self.all_GC_content(), kde=False)\n",
    "        g.set(xlabel='GC percentage', ylabel='Quantity of sequences')\n",
    "        \n",
    "    \n",
    "    def average_nucleotides_content(self,):\n",
    "        list_proportions = [] #What will hold the final result\n",
    "        for sequence in self.dict_rnas.values():\n",
    "            #Let's just count the nucleotides in one shot!\n",
    "            nts_counter = collections.Counter(sequence)\n",
    "            #How many A, C, G and U\n",
    "            list_proportions.append((nts_counter['A'], nts_counter['C'], nts_counter['G'], nts_counter['U']))\n",
    "        return np.array(list_proportions).mean(axis=0)\n"
   ]
  },
  {
   "cell_type": "code",
   "execution_count": null,
   "metadata": {
    "collapsed": false
   },
   "outputs": [],
   "source": [
    "my_family = RNA_Family('RF00001.txt')\n",
    "my_family.average_nucleotides_content()"
   ]
  },
  {
   "cell_type": "markdown",
   "metadata": {},
   "source": [
    "# Additional exercices!!!\n",
    "\n",
    "## fasta parser\n",
    "The fasta format is in general a bit more complicated. We want to create a parser for the files ending in *fasta.txt* which a common format for sequences.  \n",
    "It is an alternance of names (lines starting with the character `>`) all the following lines are the sequene associated to it (the lines need to be concatenated). \n",
    "\n",
    "e.g.\n",
    "```\n",
    "    >first_sequence\n",
    "    AAAA\n",
    "    CCCC\n",
    "    >second_sequence\n",
    "    GUGUGU\n",
    "```\n",
    "contain two sequences: `first_sequence:= AAAACCCC` and `second_sequence:= GUGUGU`. A sequence can be on more than two lines.\n",
    "Create a function `read_fasta(file_path)` that reads a *fasta* file and returns a dictionary with key the names and value the sequences. You can then directly parse the files for any family of RNA on [rfam](http://rfam.xfam.org/)."
   ]
  },
  {
   "cell_type": "code",
   "execution_count": null,
   "metadata": {
    "collapsed": true
   },
   "outputs": [],
   "source": [
    "def read_fasta(file_path):\n",
    "    pass"
   ]
  },
  {
   "cell_type": "code",
   "execution_count": 8,
   "metadata": {
    "collapsed": false
   },
   "outputs": [
    {
     "data": {
      "text/html": [
       "<img src=\"http://history.nasa.gov/ap11ann/kippsphotos/5903.jpg\"/>"
      ],
      "text/plain": [
       "<IPython.core.display.Image object>"
      ]
     },
     "metadata": {},
     "output_type": "display_data"
    }
   ],
   "source": [
    "# Load the ipython display and image module\n",
    "from IPython.display import Image\n",
    "from IPython.display import display\n",
    "# display this image\n",
    "display(Image(url='http://history.nasa.gov/ap11ann/kippsphotos/5903.jpg'))"
   ]
  },
  {
   "cell_type": "code",
   "execution_count": null,
   "metadata": {
    "collapsed": true
   },
   "outputs": [],
   "source": [
    "def read_fasta(file_path):\n",
    "    data = {}\n",
    "    with open(file_path) as f:\n",
    "        name = ''\n",
    "        for line in f:\n",
    "            if line.startswith('>'):\n",
    "                if name:\n",
    "                    data[name] = seq\n",
    "                name = line[1:].strip()\n",
    "                seq = ''\n",
    "            else:\n",
    "                seq += line.strip()\n",
    "        return data\n",
    "file_path = 'RF00001.fasta.txt'"
   ]
  },
  {
   "cell_type": "code",
   "execution_count": null,
   "metadata": {
    "collapsed": false
   },
   "outputs": [],
   "source": [
    "data = read_fasta(file_path)"
   ]
  },
  {
   "cell_type": "code",
   "execution_count": null,
   "metadata": {
    "collapsed": false
   },
   "outputs": [],
   "source": [
    "len(data)"
   ]
  },
  {
   "cell_type": "markdown",
   "metadata": {},
   "source": [
    "## seaborn.barplot!\n",
    "\n",
    "We have seen how to do a distribution plot, now let's look at bar plots. The syntax is simple, two lists, one with the names, the second with the quantities to plot. Let'see a simple example: "
   ]
  },
  {
   "cell_type": "code",
   "execution_count": null,
   "metadata": {
    "collapsed": false,
    "scrolled": true
   },
   "outputs": [],
   "source": [
    "sns.barplot(['A', 'B', 'C'], [2,3,4])"
   ]
  },
  {
   "cell_type": "markdown",
   "metadata": {},
   "source": [
    "Add a method `barplot_nucleotides` to the class `RNA_Family` that produces the distributions of average nucleotides per sequence. It should have as title the total number of sequences."
   ]
  },
  {
   "cell_type": "code",
   "execution_count": null,
   "metadata": {
    "collapsed": true
   },
   "outputs": [],
   "source": [
    "#The name of the class\n",
    "class RNA_Family():\n",
    "    \n",
    "    #__init__ is mandatory to define a new object from the class\n",
    "    #always self as first argument, will depend of the file path\n",
    "    def __init__(self, file_path):\n",
    "        #This specific object will be associated with the file file_path\n",
    "        self.file_path = file_path\n",
    "        #We create the dictionary from the file, \n",
    "        #read_RNA_file doesn't need arguments since there is only `self`\n",
    "        #which is hidden from outside. It uses the fact that it is a\n",
    "        #method of an object to retrieve its self (own) file_path\n",
    "        #NOTICE the self.read_RNA_file, we don't want any function read_RNA_file, but\n",
    "        #the one associated with that specific instance\n",
    "        self.dict_rnas = self.read_RNA_file()\n",
    "    \n",
    "    \n",
    "    #read_RNA_file will just read the path for this specific object\n",
    "    #Since the path file is in the attribute self.file_path, there is no need\n",
    "    #to give it as an argument!!\n",
    "    def read_RNA_file(self,):\n",
    "        dic_rnas = {}\n",
    "        with open(self.file_path) as f:\n",
    "            for line in f:\n",
    "                split_line = line.split()\n",
    "                dic_rnas[split_line[0]] = split_line[1]\n",
    "        return dic_rnas\n",
    "\n",
    "    \n",
    "    \n",
    "    def all_GC_content(self,):\n",
    "        #We want to loop through every sequence in self.dict_rnas and compute their GC content\n",
    "        #remember you can access all the values of a dictionary with the method .values()\n",
    "        list_GC_contents = []\n",
    "        for sequence in self.dict_rnas.values():\n",
    "            #get the sum directly\n",
    "            tot = sum(1 for nt in sequence if nt == 'C' or nt == 'G')\n",
    "            #Do not forget to cast to float!!! and append to list_GC_contents\n",
    "            list_GC_contents.append(float(tot)/len(sequence))\n",
    "        return list_GC_contents\n",
    "\n",
    "    def distribution_GC_content(self,):\n",
    "        g = sns.distplot(self.all_GC_content(), kde=False)\n",
    "        g.set(xlabel='GC percentage', ylabel='Quantity of sequences')\n",
    "        \n",
    "    \n",
    "    def average_nucleotides_content(self,):\n",
    "        list_proportions = [] #What will hold the final result\n",
    "        for sequence in self.dict_rnas.values():\n",
    "            #Let's just count the nucleotides in one shot!\n",
    "            nts_counter = collections.Counter(sequence)\n",
    "            #How many A, C, G and U\n",
    "            list_proportions.append((nts_counter['A'], nts_counter['C'], nts_counter['G'], nts_counter['U']))\n",
    "        return np.array(list_proportions).mean(axis=0)\n",
    "\n",
    "    def barplot_nucleotides(self,):\n",
    "        pass"
   ]
  },
  {
   "cell_type": "code",
   "execution_count": 9,
   "metadata": {
    "collapsed": false
   },
   "outputs": [
    {
     "data": {
      "text/html": [
       "<img src=\"http://history.nasa.gov/ap11ann/kippsphotos/5903.jpg\"/>"
      ],
      "text/plain": [
       "<IPython.core.display.Image object>"
      ]
     },
     "metadata": {},
     "output_type": "display_data"
    }
   ],
   "source": [
    "# Load the ipython display and image module\n",
    "from IPython.display import Image\n",
    "from IPython.display import display\n",
    "# display this image\n",
    "display(Image(url='http://history.nasa.gov/ap11ann/kippsphotos/5903.jpg'))"
   ]
  },
  {
   "cell_type": "code",
   "execution_count": null,
   "metadata": {
    "collapsed": true
   },
   "outputs": [],
   "source": [
    "#The name of the class\n",
    "class RNA_Family():\n",
    "    \n",
    "    #__init__ is mandatory to define a new object from the class\n",
    "    #always self as first argument, will depend of the file path\n",
    "    def __init__(self, file_path):\n",
    "        #This specific object will be associated with the file file_path\n",
    "        self.file_path = file_path\n",
    "        #We create the dictionary from the file, \n",
    "        #read_RNA_file doesn't need arguments since there is only `self`\n",
    "        #which is hidden from outside. It uses the fact that it is a\n",
    "        #method of an object to retrieve its self (own) file_path\n",
    "        #NOTICE the self.read_RNA_file, we don't want any function read_RNA_file, but\n",
    "        #the one associated with that specific instance\n",
    "        self.dict_rnas = self.read_RNA_file()\n",
    "    \n",
    "    \n",
    "    #read_RNA_file will just read the path for this specific object\n",
    "    #Since the path file is in the attribute self.file_path, there is no need\n",
    "    #to give it as an argument!!\n",
    "    def read_RNA_file(self,):\n",
    "        dic_rnas = {}\n",
    "        with open(self.file_path) as f:\n",
    "            for line in f:\n",
    "                split_line = line.split()\n",
    "                dic_rnas[split_line[0]] = split_line[1]\n",
    "        return dic_rnas\n",
    "\n",
    "    \n",
    "    \n",
    "    def all_GC_content(self,):\n",
    "        #We want to loop through every sequence in self.dict_rnas and compute their GC content\n",
    "        #remember you can access all the values of a dictionary with the method .values()\n",
    "        list_GC_contents = []\n",
    "        for sequence in self.dict_rnas.values():\n",
    "            #get the sum directly\n",
    "            tot = sum(1 for nt in sequence if nt == 'C' or nt == 'G')\n",
    "            #Do not forget to cast to float!!! and append to list_GC_contents\n",
    "            list_GC_contents.append(float(tot)/len(sequence))\n",
    "        return list_GC_contents\n",
    "\n",
    "    def distribution_GC_content(self,):\n",
    "        g = sns.distplot(self.all_GC_content(), kde=False)\n",
    "        g.set(xlabel='GC percentage', ylabel='Quantity of sequences')\n",
    "        \n",
    "    \n",
    "    def average_nucleotides_content(self,):\n",
    "        list_proportions = [] #What will hold the final result\n",
    "        for sequence in self.dict_rnas.values():\n",
    "            #Let's just count the nucleotides in one shot!\n",
    "            nts_counter = collections.Counter(sequence)\n",
    "            #How many A, C, G and U\n",
    "            list_proportions.append((nts_counter['A'], nts_counter['C'], nts_counter['G'], nts_counter['U']))\n",
    "        return np.array(list_proportions).mean(axis=0)\n",
    "\n",
    "    def barplot_nucleotides(self,):\n",
    "        g = sns.barplot(['A', 'C', 'G', 'U'], self.average_nucleotides_content())\n",
    "        g.set(title=\"This is on %s sequenes\" % len(self.dict_rnas))"
   ]
  },
  {
   "cell_type": "code",
   "execution_count": null,
   "metadata": {
    "collapsed": false
   },
   "outputs": [],
   "source": [
    "my_family = RNA_Family('RF00001.txt')\n",
    "my_family.barplot_nucleotides()"
   ]
  },
  {
   "cell_type": "markdown",
   "metadata": {
    "collapsed": true
   },
   "source": [
    "##  fnmatch\n",
    "\n",
    "Create a method `filter_by_pattern` for the `RNA_Family` class that filters the sequences depending of a given pattern?"
   ]
  },
  {
   "cell_type": "code",
   "execution_count": null,
   "metadata": {
    "collapsed": true
   },
   "outputs": [],
   "source": [
    "#The name of the class\n",
    "class RNA_Family():\n",
    "    \n",
    "    #__init__ is mandatory to define a new object from the class\n",
    "    #always self as first argument, will depend of the file path\n",
    "    def __init__(self, file_path):\n",
    "        #This specific object will be associated with the file file_path\n",
    "        self.file_path = file_path\n",
    "        #We create the dictionary from the file, \n",
    "        #read_RNA_file doesn't need arguments since there is only `self`\n",
    "        #which is hidden from outside. It uses the fact that it is a\n",
    "        #method of an object to retrieve its self (own) file_path\n",
    "        #NOTICE the self.read_RNA_file, we don't want any function read_RNA_file, but\n",
    "        #the one associated with that specific instance\n",
    "        self.dict_rnas = self.read_RNA_file()\n",
    "    \n",
    "    \n",
    "    #read_RNA_file will just read the path for this specific object\n",
    "    #Since the path file is in the attribute self.file_path, there is no need\n",
    "    #to give it as an argument!!\n",
    "    def read_RNA_file(self,):\n",
    "        dic_rnas = {}\n",
    "        with open(self.file_path) as f:\n",
    "            for line in f:\n",
    "                split_line = line.split()\n",
    "                dic_rnas[split_line[0]] = split_line[1]\n",
    "        return dic_rnas\n",
    "\n",
    "    \n",
    "    \n",
    "    def all_GC_content(self,):\n",
    "        #We want to loop through every sequence in self.dict_rnas and compute their GC content\n",
    "        #remember you can access all the values of a dictionary with the method .values()\n",
    "        list_GC_contents = []\n",
    "        for sequence in self.dict_rnas.values():\n",
    "            #get the sum directly\n",
    "            tot = sum(1 for nt in sequence if nt == 'C' or nt == 'G')\n",
    "            #Do not forget to cast to float!!! and append to list_GC_contents\n",
    "            list_GC_contents.append(float(tot)/len(sequence))\n",
    "        return list_GC_contents\n",
    "\n",
    "    def distribution_GC_content(self,):\n",
    "        g = sns.distplot(self.all_GC_content(), kde=False)\n",
    "        g.set(xlabel='GC percentage', ylabel='Quantity of sequences')\n",
    "        \n",
    "    \n",
    "    def average_nucleotides_content(self,):\n",
    "        list_proportions = [] #What will hold the final result\n",
    "        for sequence in self.dict_rnas.values():\n",
    "            #Let's just count the nucleotides in one shot!\n",
    "            nts_counter = collections.Counter(sequence)\n",
    "            #How many A, C, G and U\n",
    "            list_proportions.append((nts_counter['A'], nts_counter['C'], nts_counter['G'], nts_counter['U']))\n",
    "        return np.array(list_proportions).mean(axis=0)\n",
    "\n",
    "    def barplot_nucleotides(self,):\n",
    "        g = sns.barplot(['A', 'C', 'G', 'U'], self.average_nucleotides_content())\n",
    "        g.set(title=\"This is on %s sequenes\" % len(self.dict_rnas))\n",
    "        \n",
    "    def filter_by_pattern(self, pattern):\n",
    "        \n",
    "        return ..."
   ]
  }
 ],
 "metadata": {
  "kernelspec": {
   "display_name": "Python 2",
   "language": "python",
   "name": "python2"
  },
  "language_info": {
   "codemirror_mode": {
    "name": "ipython",
    "version": 2
   },
   "file_extension": ".py",
   "mimetype": "text/x-python",
   "name": "python",
   "nbconvert_exporter": "python",
   "pygments_lexer": "ipython2",
   "version": "2.7.11"
  }
 },
 "nbformat": 4,
 "nbformat_minor": 0
}
